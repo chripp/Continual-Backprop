{
 "cells": [
  {
   "cell_type": "code",
   "execution_count": 1,
   "id": "c7296375-6a8b-4fb6-96c9-939917ae9b60",
   "metadata": {},
   "outputs": [],
   "source": [
    "import torch\n",
    "from torch import nn\n",
    "import numpy as np\n",
    "import matplotlib.pyplot as plt \n",
    "from tqdm.auto import tqdm"
   ]
  },
  {
   "cell_type": "code",
   "execution_count": 2,
   "id": "8b08ddf8-cb94-4a56-bf8a-8183b8d288e3",
   "metadata": {},
   "outputs": [],
   "source": [
    "t = torch.ones((5,), dtype=int).cuda()"
   ]
  },
  {
   "cell_type": "code",
   "execution_count": 10,
   "id": "96b04962-df19-4229-aca8-5c60ba7fdc89",
   "metadata": {},
   "outputs": [
    {
     "data": {
      "text/plain": [
       "tensor([99.9995, 99.9995, 99.9995, 99.9995, 99.9995], device='cuda:0')"
      ]
     },
     "execution_count": 10,
     "metadata": {},
     "output_type": "execute_result"
    }
   ],
   "source": [
    "t / (1 - 0.99**t)"
   ]
  },
  {
   "cell_type": "code",
   "execution_count": 2,
   "id": "e1e01248-843d-4fd6-a07b-4b7da2719ce8",
   "metadata": {},
   "outputs": [],
   "source": []
  },
  {
   "cell_type": "code",
   "execution_count": 2,
   "id": "6dff7272-6b96-4079-9141-2c430bb11f90",
   "metadata": {},
   "outputs": [],
   "source": [
    "class CustMod(nn.Module):\n",
    "    def __init__(self):\n",
    "        '''\n",
    "        Arbitrary feed forward network. CBP assumption: forward is a single call of a Sequential layer\n",
    "        '''\n",
    "        super(CustMod, self).__init__()\n",
    "        \n",
    "        self.ff = nn.Sequential(nn.Linear(2, 8), nn.ReLU(), nn.Linear(8, 1))\n",
    "\n",
    "    def forward(self, x):\n",
    "        yhat = self.ff(x)\n",
    "        return yhat"
   ]
  },
  {
   "cell_type": "code",
   "execution_count": 3,
   "id": "c300d864-5359-4a2f-b095-ee7fb17ecbcb",
   "metadata": {},
   "outputs": [],
   "source": [
    "mod = CustMod()"
   ]
  },
  {
   "cell_type": "code",
   "execution_count": null,
   "id": "d6a0f1b2-1f89-4dae-995f-584c52700d01",
   "metadata": {},
   "outputs": [],
   "source": []
  },
  {
   "cell_type": "code",
   "execution_count": 4,
   "id": "e011c743-c5d2-4d4f-a6f1-b3c5a026cd12",
   "metadata": {},
   "outputs": [
    {
     "data": {
      "text/plain": [
       "[Parameter containing:\n",
       " tensor([[ 0.0730, -0.5806],\n",
       "         [-0.4027,  0.1338],\n",
       "         [-0.4125,  0.1988],\n",
       "         [ 0.3018,  0.4534],\n",
       "         [-0.1654,  0.1518],\n",
       "         [ 0.6921, -0.3879],\n",
       "         [-0.1804, -0.1405],\n",
       "         [-0.5986, -0.2728]], requires_grad=True)]"
      ]
     },
     "execution_count": 4,
     "metadata": {},
     "output_type": "execute_result"
    }
   ],
   "source": [
    "weights = [l.weight for l in mod.ff if isinstance(l, nn.Linear)]   # list of Linear weight parameters (w)\n",
    "output_lin = weights[-1]\n",
    "weights = weights[:-1]\n",
    "weights"
   ]
  },
  {
   "cell_type": "code",
   "execution_count": 5,
   "id": "f25374fc-484a-4e96-83a4-f2795f9dd520",
   "metadata": {},
   "outputs": [
    {
     "data": {
      "text/plain": [
       "[ReLU()]"
      ]
     },
     "execution_count": 5,
     "metadata": {},
     "output_type": "execute_result"
    }
   ],
   "source": [
    "units = [a for a in mod.ff if a.__module__.endswith('activation')] #+ ([mod.ff[-1]] if not mod.ff[-1].__module__.endswith('activation') else [])  # hook placements for feature outputs (h)\n",
    "                                                                                                                                                 # calculate running average (fhat) in hook\n",
    "    #cut off output activation? (e.g. softmax)\n",
    "units"
   ]
  },
  {
   "cell_type": "code",
   "execution_count": 338,
   "id": "41178cc9-8f60-4b76-af95-308f91b7a2f4",
   "metadata": {},
   "outputs": [
    {
     "data": {
      "text/plain": [
       "[tensor([0., 0., 0., 0., 0., 0., 0., 0.])]"
      ]
     },
     "execution_count": 338,
     "metadata": {},
     "output_type": "execute_result"
    }
   ],
   "source": [
    "hs = [torch.zeros(w.shape[0]) for w in weights]\n",
    "hs"
   ]
  },
  {
   "cell_type": "code",
   "execution_count": 339,
   "id": "51e95b18-d65c-41f6-8fa4-e91f10f61a69",
   "metadata": {},
   "outputs": [
    {
     "data": {
      "text/plain": [
       "[tensor([0., 0., 0., 0., 0., 0., 0., 0.])]"
      ]
     },
     "execution_count": 339,
     "metadata": {},
     "output_type": "execute_result"
    }
   ],
   "source": [
    "fs = [torch.zeros(w.shape[0]) for w in weights]\n",
    "fs"
   ]
  },
  {
   "cell_type": "code",
   "execution_count": 340,
   "id": "37b2ac14-d603-4504-b0da-2c6c40a012bd",
   "metadata": {},
   "outputs": [],
   "source": [
    "ages = [torch.zeros(w.shape[0], dtype=int) for w in weights]"
   ]
  },
  {
   "cell_type": "code",
   "execution_count": 341,
   "id": "e420b0ea-6a71-4d95-9a93-12b5a96bc417",
   "metadata": {},
   "outputs": [],
   "source": [
    "fhats = [torch.zeros(w.shape[0]) for w in weights]"
   ]
  },
  {
   "cell_type": "code",
   "execution_count": 342,
   "id": "e5dc11c1-6e8f-4cfb-9939-eff91999e31a",
   "metadata": {},
   "outputs": [],
   "source": [
    "us = [torch.zeros(w.shape[0]) for w in weights]"
   ]
  },
  {
   "cell_type": "code",
   "execution_count": 343,
   "id": "d107e04c-f1bd-46e2-a528-d6b25e0092b9",
   "metadata": {},
   "outputs": [],
   "source": [
    "def hook_gen(pos, eta):\n",
    "    def hook(module, inp, out):\n",
    "        with torch.no_grad():\n",
    "            hs[pos] = out.clone().detach()\n",
    "            fhats[pos] = fs[pos] / (1 - eta**ages[pos])\n",
    "            fs[pos] = (1-eta)*hs[pos] + eta*fs[pos]\n",
    "    return hook"
   ]
  },
  {
   "cell_type": "code",
   "execution_count": 344,
   "id": "e28bfc8f-dceb-4734-b059-282120c6800a",
   "metadata": {},
   "outputs": [],
   "source": [
    "eta = 0.99"
   ]
  },
  {
   "cell_type": "code",
   "execution_count": 345,
   "id": "4d976704-a023-4875-b8cf-60d54037e221",
   "metadata": {},
   "outputs": [
    {
     "data": {
      "text/plain": [
       "<torch.utils.hooks.RemovableHandle at 0x19e66419e50>"
      ]
     },
     "execution_count": 345,
     "metadata": {},
     "output_type": "execute_result"
    }
   ],
   "source": [
    "for pos, unit in enumerate(units):\n",
    "    unit.register_forward_hook(hook_gen(pos, eta))\n",
    "mod.register_forward_pre_hook(lambda m, i: torch._foreach_add_(ages, 1))"
   ]
  },
  {
   "cell_type": "code",
   "execution_count": null,
   "id": "fa090d34-89e3-4d58-932c-68a9a2fb6506",
   "metadata": {},
   "outputs": [],
   "source": []
  },
  {
   "cell_type": "code",
   "execution_count": 346,
   "id": "f86a9e4e-1fb5-4f9d-b708-5602bf71bfa7",
   "metadata": {},
   "outputs": [
    {
     "data": {
      "text/plain": [
       "[tensor([0., 0., 0., 0., 0., 0., 0., 0.])]"
      ]
     },
     "execution_count": 346,
     "metadata": {},
     "output_type": "execute_result"
    }
   ],
   "source": [
    "hs"
   ]
  },
  {
   "cell_type": "code",
   "execution_count": 352,
   "id": "44af3f22-cc68-4bff-bc09-02821f6ef82f",
   "metadata": {},
   "outputs": [
    {
     "data": {
      "text/plain": [
       "tensor([0.3517], grad_fn=<AddBackward0>)"
      ]
     },
     "execution_count": 352,
     "metadata": {},
     "output_type": "execute_result"
    }
   ],
   "source": [
    "mod(torch.ones(2))"
   ]
  },
  {
   "cell_type": "code",
   "execution_count": 353,
   "id": "1ec09d1e-c6df-4a4b-9a39-9dad86188556",
   "metadata": {},
   "outputs": [
    {
     "data": {
      "text/plain": [
       "[tensor([0.4245, 0.0000, 0.0000, 0.1980, 0.0000, 0.0000, 0.3456, 0.9702])]"
      ]
     },
     "execution_count": 353,
     "metadata": {},
     "output_type": "execute_result"
    }
   ],
   "source": [
    "hs"
   ]
  },
  {
   "cell_type": "code",
   "execution_count": 354,
   "id": "bae9672c-e64e-4afa-a2cd-b47f93093533",
   "metadata": {},
   "outputs": [
    {
     "data": {
      "text/plain": [
       "[tensor([0.0084, 0.0000, 0.0000, 0.0039, 0.0000, 0.0000, 0.0069, 0.0193])]"
      ]
     },
     "execution_count": 354,
     "metadata": {},
     "output_type": "execute_result"
    }
   ],
   "source": [
    "fs"
   ]
  },
  {
   "cell_type": "code",
   "execution_count": 355,
   "id": "c5839a8f-7e51-4e3b-a17c-afd3227194b2",
   "metadata": {},
   "outputs": [
    {
     "data": {
      "text/plain": [
       "[tensor([2, 2, 2, 2, 2, 2, 2, 2])]"
      ]
     },
     "execution_count": 355,
     "metadata": {},
     "output_type": "execute_result"
    }
   ],
   "source": [
    "ages"
   ]
  },
  {
   "cell_type": "code",
   "execution_count": 356,
   "id": "165f9837-fbb6-489f-9208-d765827e2112",
   "metadata": {},
   "outputs": [
    {
     "data": {
      "text/plain": [
       "[tensor([0.2133, 0.0000, 0.0000, 0.0995, 0.0000, 0.0000, 0.1737, 0.4876])]"
      ]
     },
     "execution_count": 356,
     "metadata": {},
     "output_type": "execute_result"
    }
   ],
   "source": [
    "fhats"
   ]
  },
  {
   "cell_type": "code",
   "execution_count": null,
   "id": "4af681d1-6321-4483-abe7-c8283671d72c",
   "metadata": {},
   "outputs": [],
   "source": []
  },
  {
   "cell_type": "code",
   "execution_count": 357,
   "id": "b7de2389-5bdb-492e-9e84-b78f12bffcec",
   "metadata": {},
   "outputs": [
    {
     "data": {
      "text/plain": [
       "[tensor([-0.1309, -0.5833, -0.1363, -0.3002, -0.2060, -0.6435,  0.1051,  0.5762])]"
      ]
     },
     "execution_count": 357,
     "metadata": {},
     "output_type": "execute_result"
    }
   ],
   "source": [
    "pre_ws = [w.clone().detach().sum(1) for w in weights]\n",
    "pre_ws"
   ]
  },
  {
   "cell_type": "code",
   "execution_count": 358,
   "id": "aa501ec4-39d1-4278-9576-d1662b2e2e57",
   "metadata": {},
   "outputs": [
    {
     "data": {
      "text/plain": [
       "[tensor([ 0.2147, -0.3095, -0.2143, -0.2454, -0.0126, -0.1973,  0.0494,  0.3447])]"
      ]
     },
     "execution_count": 358,
     "metadata": {},
     "output_type": "execute_result"
    }
   ],
   "source": [
    "post_ws = [w.clone().detach().sum(0) for w in weights[1:] + [output_lin]] # + [torch.ones(1)]] # add an importance of 1 for the last layer (not sure if this should even be calculated)\n",
    "post_ws"
   ]
  },
  {
   "cell_type": "code",
   "execution_count": 359,
   "id": "8fb800f9-cddd-4d6e-855f-686b9541513a",
   "metadata": {},
   "outputs": [],
   "source": [
    "ys = [torch.abs(h-fhat)*post_w/pre_w for h, fhat, pre_w, post_w in zip(hs, fhats, pre_ws, post_ws)]"
   ]
  },
  {
   "cell_type": "code",
   "execution_count": 360,
   "id": "d0144e22-42e5-4340-b737-483e222bb0e0",
   "metadata": {},
   "outputs": [
    {
     "data": {
      "text/plain": [
       "[tensor([-0.0035,  0.0000,  0.0000,  0.0008,  0.0000,  0.0000,  0.0008,  0.0029])]"
      ]
     },
     "execution_count": 360,
     "metadata": {},
     "output_type": "execute_result"
    }
   ],
   "source": [
    "us = [(1-eta)*y + eta*u for y, u in zip(ys, us)]\n",
    "us"
   ]
  },
  {
   "cell_type": "code",
   "execution_count": 361,
   "id": "611612bf-6f92-4374-9c32-46d9c0363996",
   "metadata": {},
   "outputs": [
    {
     "data": {
      "text/plain": [
       "[tensor([-0.1740,  0.0000,  0.0000,  0.0405,  0.0000,  0.0000,  0.0406,  0.1451])]"
      ]
     },
     "execution_count": 361,
     "metadata": {},
     "output_type": "execute_result"
    }
   ],
   "source": [
    "uhats = [u / (1 - eta**a) for u, a in zip(us, ages)]\n",
    "uhats"
   ]
  },
  {
   "cell_type": "code",
   "execution_count": 45,
   "id": "20031065-b1d1-4f3d-b894-acac84950c04",
   "metadata": {},
   "outputs": [],
   "source": []
  },
  {
   "cell_type": "code",
   "execution_count": 45,
   "id": "be8eab56-da4a-4b8c-8548-95ff51a17a47",
   "metadata": {},
   "outputs": [],
   "source": []
  },
  {
   "cell_type": "code",
   "execution_count": null,
   "id": "15285b11-2a87-4d9a-bd24-e3bb30d7705b",
   "metadata": {},
   "outputs": [],
   "source": []
  },
  {
   "cell_type": "code",
   "execution_count": 104,
   "id": "ba5c2573-598e-48f3-bfee-03a3b3d64d02",
   "metadata": {},
   "outputs": [],
   "source": [
    "class BitFlipEnv():\n",
    "    def __init__(self, target, m=20, f=15, T=1e4):\n",
    "        self.m = m\n",
    "        self.f = f\n",
    "        self.T = T\n",
    "        self.t = 0\n",
    "        self.target = target\n",
    "        self.x = torch.zeros(self.m)\n",
    "        self._update_obs()\n",
    "        \n",
    "    def get_obs(self):\n",
    "        return self.x\n",
    "    \n",
    "    def step(self):\n",
    "        y = self.target(self.x)\n",
    "        #loss = ((pred - y)**2).sum()\n",
    "        self._update_obs()\n",
    "        return y\n",
    "        \n",
    "    def _update_obs(self):\n",
    "        if self.t % self.T == 0:\n",
    "            i = torch.randint(0, self.f, (1,))[0]\n",
    "            self.x[i] = torch.logical_not(self.x[i])\n",
    "        self.x[self.f:] = torch.randint(0, 2, (self.m - self.f,))\n",
    "        self.t += 1"
   ]
  },
  {
   "cell_type": "code",
   "execution_count": 91,
   "id": "39f54db7-7dec-4b70-88cc-ce5ce689ea82",
   "metadata": {},
   "outputs": [],
   "source": [
    "env = BitFlipEnv(lambda x: x.sum(), 5, 2, 5)"
   ]
  },
  {
   "cell_type": "code",
   "execution_count": 92,
   "id": "df6d3b92-41b8-4c39-b1e7-0e5dc79e03fe",
   "metadata": {},
   "outputs": [
    {
     "name": "stdout",
     "output_type": "stream",
     "text": [
      "tensor([0., 1., 1., 1., 1.]) tensor(3., device='cuda:0')\n",
      "tensor([0., 1., 0., 0., 1.]) tensor(4., device='cuda:0')\n",
      "tensor([0., 1., 0., 0., 1.]) tensor(2., device='cuda:0')\n",
      "tensor([0., 1., 0., 1., 1.]) tensor(2., device='cuda:0')\n",
      "tensor([0., 0., 0., 0., 0.]) tensor(3., device='cuda:0')\n",
      "tensor([0., 0., 0., 1., 0.]) tensor(0., device='cuda:0')\n",
      "tensor([0., 0., 1., 0., 0.]) tensor(1., device='cuda:0')\n",
      "tensor([0., 0., 0., 1., 0.]) tensor(1., device='cuda:0')\n",
      "tensor([0., 0., 1., 1., 1.]) tensor(1., device='cuda:0')\n",
      "tensor([1., 0., 1., 0., 1.]) tensor(3., device='cuda:0')\n",
      "tensor([1., 0., 1., 1., 0.]) tensor(3., device='cuda:0')\n",
      "tensor([1., 0., 1., 1., 1.]) tensor(3., device='cuda:0')\n",
      "tensor([1., 0., 1., 1., 0.]) tensor(4., device='cuda:0')\n",
      "tensor([1., 0., 0., 1., 1.]) tensor(3., device='cuda:0')\n",
      "tensor([1., 1., 0., 1., 1.]) tensor(3., device='cuda:0')\n",
      "tensor([1., 1., 1., 0., 0.]) tensor(4., device='cuda:0')\n",
      "tensor([1., 1., 1., 0., 1.]) tensor(3., device='cuda:0')\n",
      "tensor([1., 1., 1., 1., 1.]) tensor(4., device='cuda:0')\n",
      "tensor([1., 1., 0., 0., 1.]) tensor(5., device='cuda:0')\n",
      "tensor([0., 1., 0., 0., 1.]) tensor(3., device='cuda:0')\n"
     ]
    }
   ],
   "source": [
    "for i in range(20):\n",
    "    print(env.get_obs(), env.step())"
   ]
  },
  {
   "cell_type": "code",
   "execution_count": 113,
   "id": "524720c1-7d53-46b6-878f-5ff65a03e5f0",
   "metadata": {},
   "outputs": [
    {
     "data": {
      "text/plain": [
       "14.7"
      ]
     },
     "execution_count": 113,
     "metadata": {},
     "output_type": "execute_result"
    }
   ],
   "source": [
    "21*0.7"
   ]
  },
  {
   "cell_type": "code",
   "execution_count": null,
   "id": "7e50505c-a0b8-4d64-913f-6ab8466e39fe",
   "metadata": {},
   "outputs": [],
   "source": []
  },
  {
   "cell_type": "code",
   "execution_count": 106,
   "id": "81c9929f-bed3-47ad-b483-04a4cc4043b6",
   "metadata": {},
   "outputs": [],
   "source": [
    "def linear_init(linear):\n",
    "    nn.init.uniform_(linear.weight, -1, 2)\n",
    "    linear.weight.floor_()\n",
    "    linear.weight.requires_grad = False\n",
    "    nn.init.uniform_(linear.bias, -1, 2)\n",
    "    linear.bias.floor_()\n",
    "    linear.bias.requires_grad = False\n",
    "\n",
    "class LTU(nn.Module):\n",
    "    def __init__(self, m, out, beta=0.7):\n",
    "        super(LTU, self).__init__()\n",
    "        self.linear = nn.Linear(m, out)\n",
    "        self.linear.apply(linear_init)\n",
    "        self.beta = beta\n",
    "        self.S = (self.linear.weight < -0.5).sum(1) + (self.linear.bias < -0.5)\n",
    "        self.theta = ((m+1)*self.beta - self.S)\n",
    "        \n",
    "    def forward(self, x):\n",
    "        p = self.linear(x)\n",
    "        y = torch.zeros_like(p)\n",
    "        y[p > self.theta] = 1\n",
    "        return y\n",
    "\n",
    "class BitFlipTarget(nn.Module):\n",
    "    @torch.no_grad()\n",
    "    def __init__(self, m=20, hidden_size=100, beta=0.7):\n",
    "        super(BitFlipTarget, self).__init__()\n",
    "        ltu = LTU(m, hidden_size, beta)\n",
    "        lin = nn.Linear(hidden_size, 1)\n",
    "        lin.apply(linear_init)\n",
    "        self.ff = nn.Sequential(ltu, lin)\n",
    "        \n",
    "    @torch.no_grad()\n",
    "    def forward(self, x):\n",
    "        return self.ff(x)"
   ]
  },
  {
   "cell_type": "code",
   "execution_count": 97,
   "id": "55ce3854-5973-4b5f-8792-77e87e592e7c",
   "metadata": {},
   "outputs": [
    {
     "name": "stdout",
     "output_type": "stream",
     "text": [
      "tensor([0., 0., 0., 0., 0., 0., 0., 0., 0., 0., 0., 0., 0., 1., 0., 0., 0., 0.,\n",
      "        0., 0.]) tensor([-1.], device='cuda:0')\n",
      "tensor([0., 0., 0., 0., 0., 0., 0., 0., 0., 0., 0., 0., 0., 1., 0., 0., 0., 0.,\n",
      "        0., 0.]) tensor([-1.], device='cuda:0')\n",
      "tensor([0., 0., 0., 0., 0., 0., 0., 0., 0., 0., 0., 0., 0., 1., 0., 1., 1., 0.,\n",
      "        0., 1.]) tensor([-1.], device='cuda:0')\n",
      "tensor([0., 0., 0., 0., 0., 0., 0., 0., 0., 0., 0., 0., 0., 1., 0., 0., 0., 0.,\n",
      "        1., 0.]) tensor([-1.], device='cuda:0')\n",
      "tensor([0., 0., 1., 0., 0., 0., 0., 0., 0., 0., 0., 0., 0., 1., 0., 0., 0., 0.,\n",
      "        0., 0.]) tensor([-1.], device='cuda:0')\n",
      "tensor([0., 0., 1., 0., 0., 0., 0., 0., 0., 0., 0., 0., 0., 1., 0., 0., 0., 1.,\n",
      "        1., 0.]) tensor([-1.], device='cuda:0')\n",
      "tensor([0., 0., 1., 0., 0., 0., 0., 0., 0., 0., 0., 0., 0., 1., 0., 0., 1., 1.,\n",
      "        0., 1.]) tensor([-1.], device='cuda:0')\n",
      "tensor([0., 0., 1., 0., 0., 0., 0., 0., 0., 0., 0., 0., 0., 1., 0., 1., 0., 1.,\n",
      "        0., 0.]) tensor([-1.], device='cuda:0')\n",
      "tensor([0., 0., 1., 0., 0., 0., 0., 0., 0., 0., 0., 0., 0., 1., 0., 1., 1., 0.,\n",
      "        1., 1.]) tensor([-1.], device='cuda:0')\n",
      "tensor([1., 0., 1., 0., 0., 0., 0., 0., 0., 0., 0., 0., 0., 1., 0., 0., 0., 0.,\n",
      "        0., 1.]) tensor([-1.], device='cuda:0')\n",
      "tensor([1., 0., 1., 0., 0., 0., 0., 0., 0., 0., 0., 0., 0., 1., 0., 1., 1., 1.,\n",
      "        0., 0.]) tensor([-1.], device='cuda:0')\n",
      "tensor([1., 0., 1., 0., 0., 0., 0., 0., 0., 0., 0., 0., 0., 1., 0., 0., 0., 0.,\n",
      "        0., 0.]) tensor([-1.], device='cuda:0')\n",
      "tensor([1., 0., 1., 0., 0., 0., 0., 0., 0., 0., 0., 0., 0., 1., 0., 0., 0., 0.,\n",
      "        1., 1.]) tensor([-2.], device='cuda:0')\n",
      "tensor([1., 0., 1., 0., 0., 0., 0., 0., 0., 0., 0., 0., 0., 1., 0., 0., 0., 0.,\n",
      "        0., 1.]) tensor([-2.], device='cuda:0')\n",
      "tensor([1., 0., 1., 0., 0., 0., 0., 0., 0., 0., 1., 0., 0., 1., 0., 1., 1., 1.,\n",
      "        0., 0.]) tensor([-1.], device='cuda:0')\n",
      "tensor([1., 0., 1., 0., 0., 0., 0., 0., 0., 0., 1., 0., 0., 1., 0., 1., 1., 0.,\n",
      "        0., 0.]) tensor([-1.], device='cuda:0')\n",
      "tensor([1., 0., 1., 0., 0., 0., 0., 0., 0., 0., 1., 0., 0., 1., 0., 1., 0., 1.,\n",
      "        0., 0.]) tensor([-1.], device='cuda:0')\n",
      "tensor([1., 0., 1., 0., 0., 0., 0., 0., 0., 0., 1., 0., 0., 1., 0., 1., 1., 0.,\n",
      "        1., 0.]) tensor([-1.], device='cuda:0')\n",
      "tensor([1., 0., 1., 0., 0., 0., 0., 0., 0., 0., 1., 0., 0., 1., 0., 0., 1., 0.,\n",
      "        0., 1.]) tensor([-2.], device='cuda:0')\n",
      "tensor([1., 0., 1., 0., 0., 0., 0., 0., 1., 0., 1., 0., 0., 1., 0., 1., 0., 0.,\n",
      "        0., 1.]) tensor([-1.], device='cuda:0')\n"
     ]
    }
   ],
   "source": [
    "target = BitFlipTarget().cuda()\n",
    "env = BitFlipEnv(target, T=5)\n",
    "for i in range(20):\n",
    "    print(env.get_obs(), env.step())"
   ]
  },
  {
   "cell_type": "code",
   "execution_count": null,
   "id": "1bcafa42-85ef-4d44-8f3c-f5213e39e068",
   "metadata": {},
   "outputs": [],
   "source": []
  },
  {
   "cell_type": "code",
   "execution_count": 2,
   "id": "a4cf9c49-09ea-43a5-873b-e17ba8bf5bdc",
   "metadata": {},
   "outputs": [],
   "source": [
    "class BitFlipLearner(nn.Module):\n",
    "    def __init__(self, activation, m=20, hidden_size=5):\n",
    "        super(BitFlipLearner, self).__init__()\n",
    "        \n",
    "        self.ff = nn.Sequential(nn.Linear(m, hidden_size), activation(), nn.Linear(hidden_size, 1))\n",
    "\n",
    "    def forward(self, x):\n",
    "        return self.ff(x)"
   ]
  },
  {
   "cell_type": "code",
   "execution_count": 99,
   "id": "684353c3-3492-402d-a0e1-8e0845ae6e6a",
   "metadata": {},
   "outputs": [
    {
     "data": {
      "text/plain": [
       "BitFlipLearner(\n",
       "  (ff): Sequential(\n",
       "    (0): Linear(in_features=20, out_features=5, bias=True)\n",
       "    (1): Tanh()\n",
       "    (2): Linear(in_features=5, out_features=1, bias=True)\n",
       "  )\n",
       ")"
      ]
     },
     "execution_count": 99,
     "metadata": {},
     "output_type": "execute_result"
    }
   ],
   "source": [
    "BitFlipLearner(nn.Tanh)"
   ]
  },
  {
   "cell_type": "code",
   "execution_count": null,
   "id": "8dccf6a1-5d91-4f70-abf0-3ebb4ee623db",
   "metadata": {},
   "outputs": [],
   "source": []
  },
  {
   "cell_type": "code",
   "execution_count": 100,
   "id": "7ed1199f-69a2-4901-a653-0d977b8f6787",
   "metadata": {},
   "outputs": [],
   "source": [
    "m = 20\n",
    "f = 15\n",
    "T = 100\n",
    "\n",
    "target_hidden = 100\n",
    "learner_hidden = 5\n",
    "learner_activation = nn.Tanh\n",
    "lr=0.001\n",
    "\n",
    "target = BitFlipTarget(m=m, hidden_size=target_hidden).cuda()\n",
    "learner = BitFlipLearner(learner_activation, m=m, hidden_size=learner_hidden).cuda()\n",
    "\n",
    "env = BitFlipEnv(target, m=m, f=f, T=T)\n",
    "\n",
    "optim = torch.optim.Adam(learner.parameters(), lr=lr)\n",
    "\n",
    "losses = []\n",
    "\n",
    "for iteration in range(10_000):\n",
    "    optim.zero_grad()\n",
    "    obs = env.get_obs().cuda()\n",
    "    pred = learner(obs)\n",
    "    y = env.step()\n",
    "    loss = (pred - y)**2\n",
    "    loss.backward()\n",
    "    optim.step()\n",
    "    losses.append(loss.cpu().detach().item())\n",
    "    \n",
    "losses = np.array(losses)"
   ]
  },
  {
   "cell_type": "code",
   "execution_count": 101,
   "id": "c7a2d6bb-87b2-4b16-a557-00631baa5a62",
   "metadata": {},
   "outputs": [],
   "source": [
    "bin_size = 100\n",
    "binned_losses, binned_std = np.array([(losses[l: r].mean(), losses[l: r].std()) for l, r in zip(range(0, len(losses)-bin_size+1, bin_size), range(bin_size, len(losses)+1, bin_size))]).T"
   ]
  },
  {
   "cell_type": "code",
   "execution_count": 102,
   "id": "523575d0-32aa-4f26-bb46-cf11d39292dc",
   "metadata": {},
   "outputs": [
    {
     "data": {
      "image/png": "[encoded data removed]",
      "text/plain": [
       "<Figure size 640x480 with 1 Axes>"
      ]
     },
     "metadata": {},
     "output_type": "display_data"
    }
   ],
   "source": [
    "plt.plot(list(range(0, len(losses)-bin_size+1, bin_size)), binned_losses)\n",
    "plt.fill_between(list(range(0, len(losses)-bin_size+1, bin_size)), binned_losses-binned_std, binned_losses+binned_std, color='red', alpha=0.1)\n",
    "plt.xlabel('iteration')\n",
    "plt.ylabel('squared error')\n",
    "plt.show()"
   ]
  },
  {
   "cell_type": "code",
   "execution_count": null,
   "id": "7c26ae0e-7cd7-40e5-9c8d-4c4992ac0e81",
   "metadata": {},
   "outputs": [],
   "source": []
  },
  {
   "cell_type": "code",
   "execution_count": null,
   "id": "51ea66c6-c871-4ff5-9b31-bd907b2fad93",
   "metadata": {},
   "outputs": [],
   "source": []
  },
  {
   "cell_type": "code",
   "execution_count": 129,
   "id": "f1a05035-50a4-46b8-9fc0-5d020ea99f56",
   "metadata": {},
   "outputs": [],
   "source": []
  },
  {
   "cell_type": "code",
   "execution_count": 130,
   "id": "3c94914e-28b8-4e25-a161-3ff33a452b59",
   "metadata": {},
   "outputs": [
    {
     "data": {
      "application/vnd.jupyter.widget-view+json": {
       "model_id": "adc35f10c1d54f018f30090153916db5",
       "version_major": 2,
       "version_minor": 0
      },
      "text/plain": [
       "Generating training pairs:   0%|          | 0/100 [00:00<?, ?it/s]"
      ]
     },
     "metadata": {},
     "output_type": "display_data"
    },
    {
     "ename": "KeyboardInterrupt",
     "evalue": "",
     "output_type": "error",
     "traceback": [
      "\u001b[1;31m---------------------------------------------------------------------------\u001b[0m",
      "\u001b[1;31mKeyboardInterrupt\u001b[0m                         Traceback (most recent call last)",
      "Input \u001b[1;32mIn [130]\u001b[0m, in \u001b[0;36m<cell line: 4>\u001b[1;34m()\u001b[0m\n\u001b[0;32m     10\u001b[0m \u001b[38;5;28;01mfor\u001b[39;00m i \u001b[38;5;129;01min\u001b[39;00m \u001b[38;5;28mrange\u001b[39m(length):\n\u001b[0;32m     11\u001b[0m     inp[i] \u001b[38;5;241m=\u001b[39m env\u001b[38;5;241m.\u001b[39mget_obs()\u001b[38;5;241m.\u001b[39mint()\n\u001b[1;32m---> 12\u001b[0m     out[i] \u001b[38;5;241m=\u001b[39m env\u001b[38;5;241m.\u001b[39mstep()\u001b[38;5;241m.\u001b[39mint()\n\u001b[0;32m     14\u001b[0m \u001b[38;5;28;01mwith\u001b[39;00m \u001b[38;5;28mopen\u001b[39m(\u001b[38;5;124mf\u001b[39m\u001b[38;5;124m'\u001b[39m\u001b[38;5;124mbitflip/ops_\u001b[39m\u001b[38;5;132;01m{\u001b[39;00mrun\u001b[38;5;132;01m}\u001b[39;00m\u001b[38;5;124m.npy\u001b[39m\u001b[38;5;124m'\u001b[39m, \u001b[38;5;124m'\u001b[39m\u001b[38;5;124mwb\u001b[39m\u001b[38;5;124m'\u001b[39m) \u001b[38;5;28;01mas\u001b[39;00m f:\n\u001b[0;32m     15\u001b[0m     np\u001b[38;5;241m.\u001b[39msave(f, inp)\n",
      "\u001b[1;31mKeyboardInterrupt\u001b[0m: "
     ]
    }
   ],
   "source": [
    "runs = 100\n",
    "length = 1_000_000\n",
    "\n",
    "for run in tqdm(range(runs), 'Generating training pairs', runs):\n",
    "    inp = np.empty((length, 20), int)\n",
    "    out = np.empty((length), int)\n",
    "    \n",
    "    target = BitFlipTarget(beta=0.5)\n",
    "    env = BitFlipEnv(target)\n",
    "    for i in range(length):\n",
    "        inp[i] = env.get_obs().int()\n",
    "        out[i] = env.step().int()\n",
    "        \n",
    "    with open(f'bitflip/ops_{run}.npy', 'wb') as f:\n",
    "        np.save(f, inp)\n",
    "    with open(f'bitflip/out_{run}.npy', 'wb') as f:\n",
    "        np.save(f, out)"
   ]
  },
  {
   "cell_type": "code",
   "execution_count": null,
   "id": "739b537f-6939-4106-a56e-57e35718f21b",
   "metadata": {},
   "outputs": [],
   "source": []
  },
  {
   "cell_type": "code",
   "execution_count": null,
   "id": "c9c64876-134d-4717-b40a-5595f0a4af1e",
   "metadata": {},
   "outputs": [],
   "source": []
  },
  {
   "cell_type": "code",
   "execution_count": 3,
   "id": "93deaf7e-6d6f-4138-a9c5-af579cf5d148",
   "metadata": {},
   "outputs": [],
   "source": [
    "run = 0\n",
    "\n",
    "with open(f'bitflip/ops_{run}.npy', 'rb') as f:\n",
    "    obs = np.load(f)\n",
    "with open(f'bitflip/out_{run}.npy', 'rb') as f:\n",
    "    out = np.load(f)"
   ]
  },
  {
   "cell_type": "code",
   "execution_count": 137,
   "id": "fe227e47-4c33-4ba1-aacf-bbb46b6c3e02",
   "metadata": {},
   "outputs": [
    {
     "data": {
      "application/vnd.jupyter.widget-view+json": {
       "model_id": "8bca2f6bec6344c58c6b3837a04f8511",
       "version_major": 2,
       "version_minor": 0
      },
      "text/plain": [
       "Training:   0%|          | 0/1000000 [00:00<?, ?it/s]"
      ]
     },
     "metadata": {},
     "output_type": "display_data"
    }
   ],
   "source": [
    "learner = BitFlipLearner(nn.Tanh).cuda()\n",
    "\n",
    "#optim = torch.optim.Adam(learner.parameters(), lr=0.001)\n",
    "optim = torch.optim.SGD(learner.parameters(), lr=0.01)\n",
    "\n",
    "losses = []\n",
    "\n",
    "for x, y in tqdm(zip(obs, out), 'Training', len(obs)):\n",
    "    optim.zero_grad()\n",
    "    pred = learner(torch.from_numpy(x).float().cuda())\n",
    "    loss = (y - pred)**2\n",
    "    loss.backward()\n",
    "    optim.step()\n",
    "    losses.append(loss.cpu().detach().item())"
   ]
  },
  {
   "cell_type": "code",
   "execution_count": 138,
   "id": "853f17c3-4bd5-47be-9a2e-e9fa9e94d965",
   "metadata": {},
   "outputs": [],
   "source": [
    "losses = np.array(losses)"
   ]
  },
  {
   "cell_type": "code",
   "execution_count": 139,
   "id": "45e515df-65d2-464e-9ed4-72d9cd212d44",
   "metadata": {},
   "outputs": [],
   "source": [
    "bin_size = 20_000\n",
    "binned_losses, binned_std = np.array([(losses[l: r].mean(), losses[l: r].std()) for l, r in zip(range(0, len(losses)-bin_size+1, bin_size), range(bin_size, len(losses)+1, bin_size))]).T"
   ]
  },
  {
   "cell_type": "code",
   "execution_count": 140,
   "id": "c18a3a73-ce8e-45f5-b594-9259eeab9b38",
   "metadata": {},
   "outputs": [
    {
     "data": {
      "image/png": "[encoded data removed]",
      "text/plain": [
       "<Figure size 640x480 with 1 Axes>"
      ]
     },
     "metadata": {},
     "output_type": "display_data"
    }
   ],
   "source": [
    "plt.plot(list(range(0, len(losses)-bin_size+1, bin_size)), binned_losses)\n",
    "plt.fill_between(list(range(0, len(losses)-bin_size+1, bin_size)), binned_losses-binned_std, binned_losses+binned_std, color='red', alpha=0.1)\n",
    "plt.xlabel('iteration')\n",
    "plt.ylabel('squared error')\n",
    "plt.show()"
   ]
  },
  {
   "cell_type": "code",
   "execution_count": 136,
   "id": "b50a1d29-ae82-441b-baf1-22e168aad8d6",
   "metadata": {},
   "outputs": [
    {
     "data": {
      "image/png": "[encoded data removed]",
      "text/plain": [
       "<Figure size 640x480 with 1 Axes>"
      ]
     },
     "metadata": {},
     "output_type": "display_data"
    }
   ],
   "source": []
  },
  {
   "cell_type": "code",
   "execution_count": null,
   "id": "d10b083f-1aa1-4065-a24b-8582a4593671",
   "metadata": {},
   "outputs": [],
   "source": []
  },
  {
   "cell_type": "code",
   "execution_count": 27,
   "id": "c8a52a43-f501-4150-8f04-e1b010388d94",
   "metadata": {},
   "outputs": [],
   "source": [
    "import torch\n",
    "from torch import Tensor\n",
    "from torch.optim.optimizer import Optimizer\n",
    "from typing import List, Optional\n",
    "from torch.optim import Adam\n",
    "\n",
    "\n",
    "class CAdam(Adam):\n",
    "    r\"\"\"\n",
    "    Barebone Adam adaptation with 'step' parameter for each weight in a parameter Tensor, instead of one number for the whole Tensor\n",
    "    \"\"\"\n",
    "\n",
    "    @torch.no_grad()\n",
    "    def step(self, closure=None):\n",
    "        \"\"\"Performs a single optimization step.\n",
    "\n",
    "        Args:\n",
    "            closure (callable, optional): A closure that reevaluates the model\n",
    "                and returns the loss.\n",
    "        \"\"\"\n",
    "        self._cuda_graph_capture_health_check()\n",
    "\n",
    "        loss = None\n",
    "        if closure is not None:\n",
    "            with torch.enable_grad():\n",
    "                loss = closure()\n",
    "\n",
    "        for group in self.param_groups:\n",
    "            params_with_grad = []\n",
    "            grads = []\n",
    "            exp_avgs = []\n",
    "            exp_avg_sqs = []\n",
    "            max_exp_avg_sqs = []\n",
    "            state_steps = []\n",
    "            beta1, beta2 = group['betas']\n",
    "\n",
    "            for p in group['params']:\n",
    "                if p.grad is not None:\n",
    "                    params_with_grad.append(p)\n",
    "                    if p.grad.is_sparse:\n",
    "                        raise RuntimeError('Adam does not support sparse gradients, please consider SparseAdam instead')\n",
    "                    grads.append(p.grad)\n",
    "\n",
    "                    state = self.state[p]\n",
    "                    # Lazy state initialization\n",
    "                    if len(state) == 0:\n",
    "                        ### CHANGED ###\n",
    "                        #state['step'] = torch.zeros((1,), dtype=torch.float, device=p.device) \\\n",
    "                        #    if self.defaults['capturable'] else torch.tensor(0.)\n",
    "                        state['step'] = torch.zeros_like(p, memory_format=torch.preserve_format)\n",
    "                        ###############\n",
    "                        \n",
    "                        \n",
    "                        # Exponential moving average of gradient values\n",
    "                        state['exp_avg'] = torch.zeros_like(p, memory_format=torch.preserve_format)\n",
    "                        # Exponential moving average of squared gradient values\n",
    "                        state['exp_avg_sq'] = torch.zeros_like(p, memory_format=torch.preserve_format)\n",
    "                        if group['amsgrad']:\n",
    "                            # Maintains max of all exp. moving avg. of sq. grad. values\n",
    "                            state['max_exp_avg_sq'] = torch.zeros_like(p, memory_format=torch.preserve_format)\n",
    "\n",
    "                    exp_avgs.append(state['exp_avg'])\n",
    "                    exp_avg_sqs.append(state['exp_avg_sq'])\n",
    "\n",
    "                    if group['amsgrad']:\n",
    "                        max_exp_avg_sqs.append(state['max_exp_avg_sq'])\n",
    "\n",
    "                    state_steps.append(state['step'])\n",
    "\n",
    "            cadam(params_with_grad,\n",
    "                 grads,\n",
    "                 exp_avgs,\n",
    "                 exp_avg_sqs,\n",
    "                 max_exp_avg_sqs,\n",
    "                 state_steps,\n",
    "                 amsgrad=group['amsgrad'],\n",
    "                 beta1=beta1,\n",
    "                 beta2=beta2,\n",
    "                 lr=group['lr'],\n",
    "                 weight_decay=group['weight_decay'],\n",
    "                 eps=group['eps'],\n",
    "                 maximize=group['maximize'],\n",
    "                 foreach=group['foreach'],\n",
    "                 capturable=group['capturable'])\n",
    "\n",
    "        return loss\n",
    "\n",
    "\n",
    "def cadam(params: List[Tensor],\n",
    "         grads: List[Tensor],\n",
    "         exp_avgs: List[Tensor],\n",
    "         exp_avg_sqs: List[Tensor],\n",
    "         max_exp_avg_sqs: List[Tensor],\n",
    "         state_steps: List[Tensor],\n",
    "         # kwonly args with defaults are not supported by functions compiled with torchscript issue #70627\n",
    "         # setting this as kwarg for now as functional API is compiled by torch/distributed/optim\n",
    "         foreach: bool = None,\n",
    "         capturable: bool = False,\n",
    "         *,\n",
    "         amsgrad: bool,\n",
    "         beta1: float,\n",
    "         beta2: float,\n",
    "         lr: float,\n",
    "         weight_decay: float,\n",
    "         eps: float,\n",
    "         maximize: bool):\n",
    "    r\"\"\"Functional API that performs Adam algorithm computation.\n",
    "    See :class:`~torch.optim.Adam` for details.\n",
    "    \"\"\"\n",
    "\n",
    "    if not all([isinstance(t, torch.Tensor) for t in state_steps]):\n",
    "        raise RuntimeError(\"API has changed, `state_steps` argument must contain a list of singleton tensors\")\n",
    "\n",
    "    if foreach is None:\n",
    "        # Placeholder for more complex foreach logic to be added when value is not set\n",
    "        foreach = False\n",
    "\n",
    "    if foreach and torch.jit.is_scripting():\n",
    "        raise RuntimeError('torch.jit.script not supported with foreach optimizers')\n",
    "\n",
    "    if foreach and not torch.jit.is_scripting():\n",
    "        ### CHANGED ###\n",
    "        #func = _multi_tensor_adam\n",
    "        raise NotImplementedError()\n",
    "        ###############\n",
    "    else:\n",
    "        func = _single_tensor_cadam\n",
    "\n",
    "    func(params,\n",
    "         grads,\n",
    "         exp_avgs,\n",
    "         exp_avg_sqs,\n",
    "         max_exp_avg_sqs,\n",
    "         state_steps,\n",
    "         amsgrad=amsgrad,\n",
    "         beta1=beta1,\n",
    "         beta2=beta2,\n",
    "         lr=lr,\n",
    "         weight_decay=weight_decay,\n",
    "         eps=eps,\n",
    "         maximize=maximize,\n",
    "         capturable=capturable)\n",
    "\n",
    "\n",
    "def _single_tensor_cadam(params: List[Tensor],\n",
    "                        grads: List[Tensor],\n",
    "                        exp_avgs: List[Tensor],\n",
    "                        exp_avg_sqs: List[Tensor],\n",
    "                        max_exp_avg_sqs: List[Tensor],\n",
    "                        state_steps: List[Tensor],\n",
    "                        *,\n",
    "                        amsgrad: bool,\n",
    "                        beta1: float,\n",
    "                        beta2: float,\n",
    "                        lr: float,\n",
    "                        weight_decay: float,\n",
    "                        eps: float,\n",
    "                        maximize: bool,\n",
    "                        capturable: bool):\n",
    "\n",
    "    for i, param in enumerate(params):\n",
    "\n",
    "        grad = grads[i] if not maximize else -grads[i]\n",
    "        exp_avg = exp_avgs[i]\n",
    "        exp_avg_sq = exp_avg_sqs[i]\n",
    "        step_t = state_steps[i]\n",
    "\n",
    "        if capturable:\n",
    "            assert param.is_cuda and step_t.is_cuda, \"If capturable=True, params and state_steps must be CUDA tensors.\"\n",
    "\n",
    "        # update step\n",
    "        # update step\n",
    "        ### CHANGED ###\n",
    "        #step_t += 1\n",
    "        step_t.add_(1)\n",
    "        ###############\n",
    "\n",
    "        if weight_decay != 0:\n",
    "            grad = grad.add(param, alpha=weight_decay)\n",
    "\n",
    "        # Decay the first and second moment running average coefficient\n",
    "        exp_avg.mul_(beta1).add_(grad, alpha=1 - beta1)\n",
    "        exp_avg_sq.mul_(beta2).addcmul_(grad, grad.conj(), value=1 - beta2)\n",
    "\n",
    "        if capturable:\n",
    "            ### CHANGED ###\n",
    "            # code\n",
    "            raise NotImplementedError()\n",
    "            ###############\n",
    "        else:\n",
    "            ### CHANGED ###\n",
    "            #step = step_t.item()\n",
    "            step = step_t\n",
    "            ###############\n",
    "\n",
    "            bias_correction1 = 1 - beta1 ** step\n",
    "            bias_correction2 = 1 - beta2 ** step\n",
    "\n",
    "            step_size = lr / bias_correction1\n",
    "\n",
    "            ### CHANGED ###\n",
    "            #bias_correction2_sqrt = math.sqrt(bias_correction2)\n",
    "            bias_correction2_sqrt = bias_correction2.sqrt()\n",
    "            ###############\n",
    "\n",
    "            if amsgrad:\n",
    "                # Maintains the maximum of all 2nd moment running avg. till now\n",
    "                torch.maximum(max_exp_avg_sqs[i], exp_avg_sq, out=max_exp_avg_sqs[i])\n",
    "                # Use the max. for normalizing running avg. of gradient\n",
    "                denom = (max_exp_avg_sqs[i].sqrt() / bias_correction2_sqrt).add_(eps)\n",
    "            else:\n",
    "                denom = (exp_avg_sq.sqrt() / bias_correction2_sqrt).add_(eps)\n",
    "\n",
    "            ### CHANGED ###\n",
    "            #param.addcdiv_(exp_avg, denom, value=-step_size)\n",
    "            param.sub_((exp_avg / denom).mul_(step_size))\n",
    "            ###############"
   ]
  },
  {
   "cell_type": "code",
   "execution_count": null,
   "id": "b78f0e31-2922-48e3-890a-8ab1aa0d25fd",
   "metadata": {},
   "outputs": [],
   "source": []
  },
  {
   "cell_type": "code",
   "execution_count": 18,
   "id": "ba94c31e-2346-49d6-9712-cf0a7cba6702",
   "metadata": {},
   "outputs": [],
   "source": [
    "learner = BitFlipLearner(nn.Tanh)"
   ]
  },
  {
   "cell_type": "code",
   "execution_count": 19,
   "id": "3d472286-bb67-4777-a19d-aa755247ba67",
   "metadata": {},
   "outputs": [],
   "source": [
    "state = learner.state_dict()"
   ]
  },
  {
   "cell_type": "code",
   "execution_count": 20,
   "id": "d3939284-f445-48c0-b680-2efce67dfc5b",
   "metadata": {},
   "outputs": [
    {
     "data": {
      "application/vnd.jupyter.widget-view+json": {
       "model_id": "7b5d9d6d0a254a3cb11132961b6a043f",
       "version_major": 2,
       "version_minor": 0
      },
      "text/plain": [
       "Training:   0%|          | 0/1000 [00:00<?, ?it/s]"
      ]
     },
     "metadata": {},
     "output_type": "display_data"
    }
   ],
   "source": [
    "learner.load_state_dict(state)\n",
    "model = learner.cuda()\n",
    "\n",
    "optim = torch.optim.Adam(model.parameters(), lr=0.001)\n",
    "\n",
    "real_losses = []\n",
    "\n",
    "for x, y in tqdm(zip(obs[:1000], out[:1000]), 'Training', len(obs[:1000])):\n",
    "    optim.zero_grad()\n",
    "    pred = model(torch.from_numpy(x).float().cuda())\n",
    "    loss = (y - pred)**2\n",
    "    loss.backward()\n",
    "    optim.step()\n",
    "    real_losses.append(loss.cpu().detach().item())\n",
    "    \n",
    "real_losses = np.array(real_losses)"
   ]
  },
  {
   "cell_type": "code",
   "execution_count": 21,
   "id": "ec1aa63f-0e58-491b-9850-2f50701fe9d4",
   "metadata": {},
   "outputs": [],
   "source": [
    "bin_size = 10\n",
    "real_binned_losses, real_binned_std = np.array([(real_losses[l: r].mean(), real_losses[l: r].std()) for l, r in zip(range(0, len(real_losses)-bin_size+1, bin_size), range(bin_size, len(real_losses)+1, bin_size))]).T"
   ]
  },
  {
   "cell_type": "code",
   "execution_count": 29,
   "id": "ca3789d8-e8a5-4c92-b909-0cff06c8f3a7",
   "metadata": {},
   "outputs": [
    {
     "data": {
      "application/vnd.jupyter.widget-view+json": {
       "model_id": "0848b3d02cfd4635b789b8dc98141d12",
       "version_major": 2,
       "version_minor": 0
      },
      "text/plain": [
       "Training:   0%|          | 0/1000 [00:00<?, ?it/s]"
      ]
     },
     "metadata": {},
     "output_type": "display_data"
    }
   ],
   "source": [
    "learner.load_state_dict(state)\n",
    "model = learner.cuda()\n",
    "\n",
    "optim = CAdam(model.parameters(), lr=0.001)\n",
    "\n",
    "new_losses = []\n",
    "\n",
    "for x, y in tqdm(zip(obs[:1000], out[:1000]), 'Training', len(obs[:1000])):\n",
    "    optim.zero_grad()\n",
    "    pred = model(torch.from_numpy(x).float().cuda())\n",
    "    loss = (y - pred)**2\n",
    "    loss.backward()\n",
    "    optim.step()\n",
    "    new_losses.append(loss.cpu().detach().item())\n",
    "    \n",
    "new_losses = np.array(new_losses)"
   ]
  },
  {
   "cell_type": "code",
   "execution_count": 23,
   "id": "d7d339bf-1b1f-4dae-b1ec-6fc814d3717e",
   "metadata": {},
   "outputs": [],
   "source": [
    "bin_size = 10\n",
    "new_binned_losses, new_binned_std = np.array([(new_losses[l: r].mean(), new_losses[l: r].std()) for l, r in zip(range(0, len(new_losses)-bin_size+1, bin_size), range(bin_size, len(new_losses)+1, bin_size))]).T"
   ]
  },
  {
   "cell_type": "code",
   "execution_count": 24,
   "id": "7cf08f50-6ed3-4ea2-92a2-308db059586e",
   "metadata": {},
   "outputs": [
    {
     "data": {
      "image/png": "[encoded data removed]",
      "text/plain": [
       "<Figure size 640x480 with 1 Axes>"
      ]
     },
     "metadata": {},
     "output_type": "display_data"
    }
   ],
   "source": [
    "plt.plot(list(range(0, len(real_losses)-bin_size+1, bin_size)), real_binned_losses)\n",
    "plt.fill_between(list(range(0, len(real_losses)-bin_size+1, bin_size)), real_binned_losses-real_binned_std, real_binned_losses+real_binned_std, color='red', alpha=0.1)\n",
    "plt.xlabel('iteration')\n",
    "plt.ylabel('squared error')\n",
    "plt.show()"
   ]
  },
  {
   "cell_type": "code",
   "execution_count": 25,
   "id": "b458f867-0133-40e5-ab61-491516a3ccf0",
   "metadata": {},
   "outputs": [
    {
     "data": {
      "image/png": "[encoded data removed]",
      "text/plain": [
       "<Figure size 640x480 with 1 Axes>"
      ]
     },
     "metadata": {},
     "output_type": "display_data"
    }
   ],
   "source": [
    "plt.plot(list(range(0, len(new_losses)-bin_size+1, bin_size)), new_binned_losses)\n",
    "plt.fill_between(list(range(0, len(new_losses)-bin_size+1, bin_size)), new_binned_losses-new_binned_std, new_binned_losses+new_binned_std, color='red', alpha=0.1)\n",
    "plt.xlabel('iteration')\n",
    "plt.ylabel('squared error')\n",
    "plt.show()"
   ]
  },
  {
   "cell_type": "code",
   "execution_count": 30,
   "id": "75549cbf-db28-4577-baac-153480daf1f0",
   "metadata": {},
   "outputs": [
    {
     "data": {
      "text/plain": [
       "0.006384075796177058"
      ]
     },
     "execution_count": 30,
     "metadata": {},
     "output_type": "execute_result"
    }
   ],
   "source": [
    "np.abs(real_losses - new_losses).sum()"
   ]
  },
  {
   "cell_type": "code",
   "execution_count": 59,
   "id": "e19991fb-bb29-40f2-92dd-5f8b295df106",
   "metadata": {},
   "outputs": [],
   "source": []
  },
  {
   "cell_type": "code",
   "execution_count": 59,
   "id": "5740d267-7a68-401b-adee-89777d85d4b9",
   "metadata": {},
   "outputs": [],
   "source": []
  },
  {
   "cell_type": "code",
   "execution_count": 59,
   "id": "327be90a-cde7-4a5f-a779-4a28a62a014d",
   "metadata": {},
   "outputs": [
    {
     "data": {
      "text/plain": [
       "{'step': tensor([[1000., 1000., 1000., 1000., 1000., 1000., 1000., 1000., 1000., 1000.,\n",
       "          1000., 1000., 1000., 1000., 1000., 1000., 1000., 1000., 1000., 1000.],\n",
       "         [1000., 1000., 1000., 1000., 1000., 1000., 1000., 1000., 1000., 1000.,\n",
       "          1000., 1000., 1000., 1000., 1000., 1000., 1000., 1000., 1000., 1000.],\n",
       "         [1000., 1000., 1000., 1000., 1000., 1000., 1000., 1000., 1000., 1000.,\n",
       "          1000., 1000., 1000., 1000., 1000., 1000., 1000., 1000., 1000., 1000.],\n",
       "         [1000., 1000., 1000., 1000., 1000., 1000., 1000., 1000., 1000., 1000.,\n",
       "          1000., 1000., 1000., 1000., 1000., 1000., 1000., 1000., 1000., 1000.],\n",
       "         [1000., 1000., 1000., 1000., 1000., 1000., 1000., 1000., 1000., 1000.,\n",
       "          1000., 1000., 1000., 1000., 1000., 1000., 1000., 1000., 1000., 1000.]],\n",
       "        device='cuda:0'),\n",
       " 'exp_avg': tensor([[ 0.0000,  0.0000,  0.0000,  0.0000,  0.0000,  0.0000,  0.0000,  0.0000,\n",
       "           0.0000,  0.0000,  0.0000,  0.0000,  0.2191,  0.0000,  0.0000,  0.3021,\n",
       "           0.0927,  0.0946,  0.2889,  0.1669],\n",
       "         [ 0.0000,  0.0000,  0.0000,  0.0000,  0.0000,  0.0000,  0.0000,  0.0000,\n",
       "           0.0000,  0.0000,  0.0000,  0.0000,  0.2728,  0.0000,  0.0000,  0.4055,\n",
       "           0.1239,  0.1343,  0.3812,  0.2456],\n",
       "         [ 0.0000,  0.0000,  0.0000,  0.0000,  0.0000,  0.0000,  0.0000,  0.0000,\n",
       "           0.0000,  0.0000,  0.0000,  0.0000, -0.1028,  0.0000,  0.0000, -0.1823,\n",
       "          -0.0249, -0.0305, -0.1881, -0.0982],\n",
       "         [ 0.0000,  0.0000,  0.0000,  0.0000,  0.0000,  0.0000,  0.0000,  0.0000,\n",
       "           0.0000,  0.0000,  0.0000,  0.0000, -0.1465,  0.0000,  0.0000, -0.2150,\n",
       "          -0.0480, -0.0501, -0.2071, -0.1063],\n",
       "         [ 0.0000,  0.0000,  0.0000,  0.0000,  0.0000,  0.0000,  0.0000,  0.0000,\n",
       "           0.0000,  0.0000,  0.0000,  0.0000,  0.0820,  0.0000,  0.0000,  0.1244,\n",
       "           0.0218,  0.0289,  0.1212,  0.0612]], device='cuda:0'),\n",
       " 'exp_avg_sq': tensor([[0.0000, 0.0000, 0.0000, 0.0000, 0.0000, 0.0000, 0.0000, 0.0000, 0.0000,\n",
       "          0.0000, 0.0000, 0.0000, 0.5949, 0.0000, 0.0000, 0.2199, 0.1353, 0.1632,\n",
       "          0.4741, 0.3218],\n",
       "         [0.0000, 0.0000, 0.0000, 0.0000, 0.0000, 0.0000, 0.0000, 0.0000, 0.0000,\n",
       "          0.0000, 0.0000, 0.0000, 1.0012, 0.0000, 0.0000, 0.3652, 0.3221, 0.3833,\n",
       "          0.7627, 0.5960],\n",
       "         [0.0000, 0.0000, 0.0000, 0.0000, 0.0000, 0.0000, 0.0000, 0.0000, 0.0000,\n",
       "          0.0000, 0.0000, 0.0000, 0.4125, 0.0000, 0.0000, 0.1614, 0.0960, 0.1006,\n",
       "          0.2646, 0.1779],\n",
       "         [0.0000, 0.0000, 0.0000, 0.0000, 0.0000, 0.0000, 0.0000, 0.0000, 0.0000,\n",
       "          0.0000, 0.0000, 0.0000, 0.2793, 0.0000, 0.0000, 0.0857, 0.0477, 0.0517,\n",
       "          0.2241, 0.1344],\n",
       "         [0.0000, 0.0000, 0.0000, 0.0000, 0.0000, 0.0000, 0.0000, 0.0000, 0.0000,\n",
       "          0.0000, 0.0000, 0.0000, 0.0932, 0.0000, 0.0000, 0.0297, 0.0151, 0.0207,\n",
       "          0.0742, 0.0363]], device='cuda:0')}"
      ]
     },
     "execution_count": 59,
     "metadata": {},
     "output_type": "execute_result"
    }
   ],
   "source": [
    "optim.state[list(model.parameters())[0]]"
   ]
  },
  {
   "cell_type": "code",
   "execution_count": 3,
   "id": "be83d04b-e4e7-4a37-8ce5-3bd1d52ad10e",
   "metadata": {},
   "outputs": [],
   "source": []
  },
  {
   "cell_type": "code",
   "execution_count": 1,
   "id": "7f80efa6-c9ae-42b6-9c9b-63eae3a2e520",
   "metadata": {},
   "outputs": [],
   "source": [
    "import torch\n",
    "from torch import nn\n",
    "import numpy as np\n",
    "import matplotlib.pyplot as plt \n",
    "from tqdm.auto import tqdm"
   ]
  },
  {
   "cell_type": "code",
   "execution_count": null,
   "id": "279be80d-69b2-4c4b-8350-1ae381711b3f",
   "metadata": {},
   "outputs": [],
   "source": []
  },
  {
   "cell_type": "code",
   "execution_count": 2,
   "id": "15ecd1b9-7433-423b-808c-6c76c2db72fb",
   "metadata": {},
   "outputs": [],
   "source": [
    "import gym\n",
    "import pybulletgym"
   ]
  },
  {
   "cell_type": "code",
   "execution_count": 3,
   "id": "468a1675-4a29-4672-b37b-a0c61c0c9d05",
   "metadata": {},
   "outputs": [
    {
     "name": "stdout",
     "output_type": "stream",
     "text": [
      "WalkerBase::__init__\n"
     ]
    },
    {
     "name": "stderr",
     "output_type": "stream",
     "text": [
      "C:\\Users\\chris\\anaconda3\\lib\\site-packages\\gym\\logger.py:34: UserWarning: \u001b[33mWARN: Box bound precision lowered by casting to float32\u001b[0m\n",
      "  warnings.warn(colorize(\"%s: %s\" % (\"WARN\", msg % args), \"yellow\"))\n"
     ]
    }
   ],
   "source": [
    "#env = gym.make(\"CartPole-v1\")\n",
    "env = gym.make(\"AntMuJoCoEnv-v0\")"
   ]
  },
  {
   "cell_type": "code",
   "execution_count": 4,
   "id": "530f99a1-8519-4ade-8da7-09012e873118",
   "metadata": {},
   "outputs": [],
   "source": []
  },
  {
   "cell_type": "code",
   "execution_count": 5,
   "id": "39b69ac6-da10-4699-97f7-1f3dd8c26a5a",
   "metadata": {},
   "outputs": [],
   "source": [
    "from stable_baselines3.ppo import PPO"
   ]
  },
  {
   "cell_type": "code",
   "execution_count": null,
   "id": "4883aef7-7de7-4c8d-bab9-90e41e8a3ef8",
   "metadata": {},
   "outputs": [],
   "source": []
  },
  {
   "cell_type": "code",
   "execution_count": 6,
   "id": "ec4409dd-b3d9-4f9f-8692-39a4f35c39f9",
   "metadata": {},
   "outputs": [],
   "source": [
    "from optim import CAdam\n",
    "import math\n",
    "\n",
    "class CBP(CAdam):\n",
    "    '''\n",
    "    Open questions:\n",
    "        How should batches be dealth with?\n",
    "            For now I calculate the mean over the batch and handle that like in the sequential case\n",
    "        How many features are actually replaced every iteration? Their n_l and rho don't seem to work, as 256 * 10**-4 < 1. Is this supposed to be a probability?\n",
    "            # For now math.ceil is used, so every iteration 1 usit is replaced. This doesn't make sense, since when n_l < m then the features are just replaced in order as they mature.\n",
    "            Changed to using n_l * rho as a probability of replacing the worst performing feature\n",
    "    '''\n",
    "    def __init__(self,\n",
    "                 params,                 # all parameters to be optimized by Adam\n",
    "                 linear_layers,          # List[List[Linear]], a list of linearities for each separate network (policy, value, ...), in the order they are executed\n",
    "                 activation_layers,      # List[List[Activation]], a list of activation layers for each separate network (policy, value, ...), in the order they are executed. Forward hooks are added to these\n",
    "                 output_linears,         # List[Linear], a list of each network's last Linear layer\n",
    "                 eta=0.99,               # running average discount factor\n",
    "                 m=int(5e3),             # maturity threshold, only features with age > m are elligible to be replaced\n",
    "                 rho=10**-4,             # replacement rate, controls how frequently features are replaced                                                    # TODO: change description\n",
    "                 sample_weights=None,    # functiion, take size and device as input and return a tensor of the given size with newly initialized weights\n",
    "                 eps=1e-8,               # small additive value to avoid division by zero\n",
    "                 device = 'auto',\n",
    "                 **kwargs):\n",
    "        super(CBP, self).__init__(params, **kwargs)\n",
    "        self.linear_layers = linear_layers\n",
    "        self.activation_layers = activation_layers\n",
    "        self.cbp_vals = {}\n",
    "        self.output_linears = output_linears\n",
    "        self.eta = eta\n",
    "        self.m = m\n",
    "        self.rho = rho\n",
    "        \n",
    "        self.dev = get_device(device)\n",
    "        \n",
    "        assert len(self.linear_layers) == len(self.activation_layers)\n",
    "        for linears, activations in zip(self.linear_layers, self.activation_layers):\n",
    "            self._add_hooks(linears, activations)\n",
    "        \n",
    "        if sample_weights is None:\n",
    "            def sample_weights(size, device):\n",
    "                sample = torch.empty(size, device=device)\n",
    "                torch.nn.init.kaiming_uniform_(sample, a=math.sqrt(5))\n",
    "                return sample\n",
    "            reset_weights = lambda w: torch.nn.init.kaiming_uniform_(w, a=math.sqrt(5))\n",
    "        self.sample_weights = sample_weights\n",
    "        self.eps = eps\n",
    "    \n",
    "    @torch.no_grad()\n",
    "    def step(self):\n",
    "        super(CBP, self).step()\n",
    "        for linears, output_linear in zip(self.linear_layers, self.output_linears): # cycle through models\n",
    "            # TODO change such that abs is not called twice on each weight Tensor\n",
    "            for current_linear, next_linear in zip(linears, linears[1:] + [output_linear]): # cycle through layers\n",
    "                cbp_vals = self.cbp_vals[current_linear]\n",
    "                \n",
    "                pre_w = current_linear.weight.abs().sum(1).detach_().add_(self.eps) # avoid division by zero\n",
    "                post_w = next_linear.weight.abs().sum(0).detach_()\n",
    "                \n",
    "                y = (cbp_vals['h'] - cbp_vals['fhat']).abs_().mul_(post_w).div_(pre_w)\n",
    "                cbp_vals['u'].mul_(self.eta).add_((1-self.eta)*y)\n",
    "                \n",
    "                uhat = cbp_vals['u'] / (1 - self.eta**cbp_vals['age'])\n",
    "                \n",
    "                eligible = cbp_vals['age'] > self.m\n",
    "                if eligible.any() and torch.rand(1) < len(uhat)*self.rho:  # use n_l* rho as a probability of replacing a single feature\n",
    "                    ascending = uhat.argsort()\n",
    "                    r = ascending[eligible[ascending]]   # sort eligible indices according to their utility\n",
    "                    #r = r[:math.ceil(uhat.shape[0]*self.rho)]  # choose top k worst performing features    # using ceil because otherwise nothing ever gets reset int(256*10**-4)=0\n",
    "                    r = r[[0]]  # choose the worst feature\n",
    "                    \n",
    "                    current_linear.weight.index_copy_(0, r, self.sample_weights((len(r), current_linear.weight.shape[1]), device=current_linear.weight.device))\n",
    "                    next_linear.weight.index_fill_(1, r, 0.)\n",
    "                    \n",
    "                    cbp_vals['u'].index_fill_(0, r, 0.)\n",
    "                    cbp_vals['f'].index_fill_(0, r, 0.)\n",
    "                    cbp_vals['age'].index_fill_(0, r, 0)\n",
    "                    \n",
    "                    ### Adam resets\n",
    "                    pre_state = self.state[current_linear.weight]\n",
    "                    pre_state['step'].index_fill_(0, r, 0)\n",
    "                    pre_state['exp_avg'].index_fill_(0, r, 0.)\n",
    "                    pre_state['exp_avg_sq'].index_fill_(0, r, 0.)\n",
    "                    \n",
    "                    post_state = self.state[next_linear.weight]\n",
    "                    post_state['step'].index_fill_(1, r, 0)\n",
    "                    post_state['exp_avg'].index_fill_(1, r, 0.)\n",
    "                    post_state['exp_avg_sq'].index_fill_(1, r, 0.)\n",
    "                    \n",
    "    def _hook_gen(self, linear_layer):\n",
    "        num_units = linear_layer.weight.shape[0]\n",
    "        self.cbp_vals[linear_layer] = {\n",
    "            'age':  torch.zeros(num_units, dtype=int, device=self.dev), \n",
    "            'h':    torch.zeros(num_units, device=self.dev),\n",
    "            'f':    torch.zeros(num_units, device=self.dev),\n",
    "            'fhat': torch.zeros(num_units, device=self.dev),\n",
    "            'u':    torch.zeros(num_units, device=self.dev)\n",
    "        }\n",
    "        def hook(mod, inp, out):\n",
    "            if mod.training:\n",
    "                with torch.no_grad():\n",
    "                    # NOTE Seems CBP is only described for sequential input with gradient updates at each step.\n",
    "                    #      Since PPO is based on batched environment data, changes have to be made\n",
    "                    #      I will therefore work with means over the baches\n",
    "                    cbp_vals = self.cbp_vals[linear_layer]\n",
    "                    cbp_vals['age'].add_(1)\n",
    "                    cbp_vals['h'] = out.mean(0).detach_()\n",
    "                    cbp_vals['fhat'] = self.cbp_vals[linear_layer]['f'] / (1 - self.eta**cbp_vals['age'])\n",
    "                    cbp_vals['f'].mul_(self.eta).add_((1-self.eta)*cbp_vals['h'])\n",
    "        return hook\n",
    "    \n",
    "    def _add_hooks(self, linears, activations):\n",
    "        assert len(linears) == len(activations\n",
    "                                  )\n",
    "        for lin, act in zip(linears, activations):\n",
    "            act.register_forward_hook(self._hook_gen(lin))"
   ]
  },
  {
   "cell_type": "code",
   "execution_count": 7,
   "id": "171b39c2-1eae-4fda-b1e6-05f62a9d1db5",
   "metadata": {},
   "outputs": [],
   "source": [
    "from stable_baselines3.ppo.policies import ActorCriticPolicy\n",
    "from stable_baselines3.common.utils import get_device\n",
    "\n",
    "class CPPO_Policy(ActorCriticPolicy):\n",
    "    def __init__(\n",
    "        self,\n",
    "        observation_space,\n",
    "        action_space,\n",
    "        lr_schedule,\n",
    "        **kwargs\n",
    "    ):\n",
    "        assert not 'optimizer_class' in kwargs\n",
    "        super(CPPO_Policy, self).__init__(observation_space, action_space, lr_schedule, **(kwargs|{'optimizer_kwargs':{}})) # remove optimizer_kwargs, as __init__ initializes Adam with them, which throws errors\n",
    "        self.optimizer_kwargs = kwargs['optimizer_kwargs']\n",
    "        assert len(self.mlp_extractor.shared_net) == 0, 'no shared layers between policy and value function allowed' # not used in the paper, might try to implement it later\n",
    "        \n",
    "        policy_linears, policy_activations = self._handle_sequential(self.mlp_extractor.policy_net)\n",
    "        value_linears, value_activations = self._handle_sequential(self.mlp_extractor.value_net)\n",
    "        \n",
    "        self.optimizer = CBP(self.parameters(),\n",
    "                             linear_layers=[policy_linears, value_linears],\n",
    "                             activation_layers=[policy_activations, value_activations],\n",
    "                             output_linears=[self.action_net, self.value_net],\n",
    "                             lr=lr_schedule(1),\n",
    "                             **self.optimizer_kwargs)\n",
    "    \n",
    "    def _handle_sequential(self, sequential):\n",
    "        linears = []\n",
    "        activations = []\n",
    "        for i, layer in enumerate(sequential):\n",
    "            if i%2 == 0: # Linear Layer\n",
    "                linears.append(layer)\n",
    "            else:        # Activation Layer\n",
    "                activations.append(layer)\n",
    "        return linears, activations"
   ]
  },
  {
   "cell_type": "code",
   "execution_count": 8,
   "id": "02e9aa44-6ba0-4422-b089-346eb8b922a3",
   "metadata": {},
   "outputs": [],
   "source": []
  },
  {
   "cell_type": "code",
   "execution_count": 8,
   "id": "043f887d-3d87-4d24-8575-129622b71d2c",
   "metadata": {},
   "outputs": [],
   "source": []
  },
  {
   "cell_type": "code",
   "execution_count": 8,
   "id": "a1043e00-8155-4552-b08a-2ab49d639d97",
   "metadata": {},
   "outputs": [],
   "source": []
  },
  {
   "cell_type": "code",
   "execution_count": 8,
   "id": "80e4a85f-f5fc-49af-af57-d98ffe9f2660",
   "metadata": {},
   "outputs": [],
   "source": []
  },
  {
   "cell_type": "code",
   "execution_count": 8,
   "id": "165d74a8-736f-4bf9-a164-91dd2c58b624",
   "metadata": {},
   "outputs": [],
   "source": []
  },
  {
   "cell_type": "code",
   "execution_count": 8,
   "id": "89a477b7-aa7c-4954-9ae6-e23175791a62",
   "metadata": {},
   "outputs": [],
   "source": []
  },
  {
   "cell_type": "code",
   "execution_count": 1,
   "id": "4fe87ebc-6bf9-4185-9b45-2febec04870b",
   "metadata": {},
   "outputs": [],
   "source": [
    "import torch\n",
    "from torch import nn\n",
    "import numpy as np\n",
    "import matplotlib.pyplot as plt \n",
    "from tqdm.auto import tqdm\n",
    "\n",
    "import gym\n",
    "import pybulletgym\n",
    "\n",
    "from stable_baselines3.ppo import PPO\n",
    "\n",
    "from cppo import CPPO_Policy"
   ]
  },
  {
   "cell_type": "code",
   "execution_count": null,
   "id": "9a453ae5-3274-42ad-9820-b56d8225f05f",
   "metadata": {},
   "outputs": [],
   "source": []
  },
  {
   "cell_type": "code",
   "execution_count": 2,
   "id": "d4b675f6-c13b-4f90-93a8-e7cf2e5bb736",
   "metadata": {},
   "outputs": [
    {
     "name": "stderr",
     "output_type": "stream",
     "text": [
      "C:\\Users\\chris\\anaconda3\\lib\\site-packages\\gym\\logger.py:34: UserWarning: \u001b[33mWARN: Box bound precision lowered by casting to float32\u001b[0m\n",
      "  warnings.warn(colorize(\"%s: %s\" % (\"WARN\", msg % args), \"yellow\"))\n"
     ]
    },
    {
     "name": "stdout",
     "output_type": "stream",
     "text": [
      "WalkerBase::__init__\n"
     ]
    }
   ],
   "source": [
    "ppo = PPO(CPPO_Policy, \"AntMuJoCoEnv-v0\", \n",
    "        policy_kwargs={'net_arch': [{'pi': [256, 256], 'vf':[256, 256]}], \n",
    "                       'activation_fn': nn.Tanh, \n",
    "                       'optimizer_kwargs':{'m':10}})"
   ]
  },
  {
   "cell_type": "code",
   "execution_count": 3,
   "id": "cce985e7-e0c6-47db-bf39-d10d0515a5f6",
   "metadata": {},
   "outputs": [
    {
     "data": {
      "text/plain": [
       "<stable_baselines3.ppo.ppo.PPO at 0x1d2bba3d7c0>"
      ]
     },
     "execution_count": 3,
     "metadata": {},
     "output_type": "execute_result"
    }
   ],
   "source": [
    "ppo.learn(total_timesteps=10)"
   ]
  },
  {
   "cell_type": "code",
   "execution_count": null,
   "id": "730a8434-3753-4cc6-b18c-550235b73b6c",
   "metadata": {},
   "outputs": [],
   "source": []
  },
  {
   "cell_type": "code",
   "execution_count": 2,
   "id": "780189c5-ca1e-4e45-9f0d-4b8d310a969a",
   "metadata": {},
   "outputs": [
    {
     "name": "stdout",
     "output_type": "stream",
     "text": [
      "WalkerBase::__init__\n"
     ]
    },
    {
     "name": "stderr",
     "output_type": "stream",
     "text": [
      "C:\\Users\\chris\\anaconda3\\lib\\site-packages\\gym\\logger.py:34: UserWarning: \u001b[33mWARN: Box bound precision lowered by casting to float32\u001b[0m\n",
      "  warnings.warn(colorize(\"%s: %s\" % (\"WARN\", msg % args), \"yellow\"))\n"
     ]
    }
   ],
   "source": [
    "env = gym.make(\"AntMuJoCoEnv-v0\")"
   ]
  },
  {
   "cell_type": "code",
   "execution_count": 10,
   "id": "accddf73-91ea-4459-abb8-3e7168d51d80",
   "metadata": {},
   "outputs": [
    {
     "data": {
      "text/plain": [
       "array([ 0.75      ,  0.        ,  0.        ,  0.        ,  1.        ,\n",
       "       -0.01282061, -0.09577501,  0.07053206,  0.09939641, -0.03495903,\n",
       "       -0.03378454,  0.03809717, -0.06505393,  0.        ,  0.        ,\n",
       "        0.        ,  0.        ,  0.        ,  0.        ,  0.        ,\n",
       "        0.        ,  0.        ,  0.        ,  0.        ,  0.        ,\n",
       "        0.        ,  0.        ,  0.        ,  0.        ,  0.        ,\n",
       "        0.        ,  0.        ,  0.        ,  0.        ,  0.        ,\n",
       "        0.        ,  0.        ,  0.        ,  0.        ,  0.        ,\n",
       "        0.        ,  0.        ,  0.        ,  0.        ,  0.        ,\n",
       "        0.        ,  0.        ,  0.        ,  0.        ,  0.        ,\n",
       "        0.        ,  0.        ,  0.        ,  0.        ,  0.        ,\n",
       "        0.        ,  0.        ,  0.        ,  0.        ,  0.        ,\n",
       "        0.        ,  0.        ,  0.        ,  0.        ,  0.        ,\n",
       "        0.        ,  0.        ,  0.        ,  0.        ,  0.        ,\n",
       "        0.        ,  0.        ,  0.        ,  0.        ,  0.        ,\n",
       "        0.        ,  0.        ,  0.        ,  0.        ,  0.        ,\n",
       "        0.        ,  0.        ,  0.        ,  0.        ,  0.        ,\n",
       "        0.        ,  0.        ,  0.        ,  0.        ,  0.        ,\n",
       "        0.        ,  0.        ,  0.        ,  0.        ,  0.        ,\n",
       "        0.        ,  0.        ,  0.        ,  0.        ,  0.        ,\n",
       "        0.        ,  0.        ,  0.        ,  0.        ,  0.        ,\n",
       "        0.        ,  0.        ,  0.        ,  0.        ,  0.        ,\n",
       "        0.        ])"
      ]
     },
     "execution_count": 10,
     "metadata": {},
     "output_type": "execute_result"
    }
   ],
   "source": [
    "env.reset()"
   ]
  },
  {
   "cell_type": "code",
   "execution_count": 11,
   "id": "aa4e592e-915d-4b88-8289-3a59d7c3ba93",
   "metadata": {},
   "outputs": [
    {
     "data": {
      "text/plain": [
       "<pybullet_utils.bullet_client.BulletClient at 0x2e73c13f4c0>"
      ]
     },
     "execution_count": 11,
     "metadata": {},
     "output_type": "execute_result"
    }
   ],
   "source": [
    "env.env._p"
   ]
  },
  {
   "cell_type": "code",
   "execution_count": 20,
   "id": "0da4dc10-2290-4446-81fb-3b0eb30e430c",
   "metadata": {},
   "outputs": [
    {
     "data": {
      "text/plain": [
       "((0.0, 0.0, 0.0), (0.0, 0.0, 0.0))"
      ]
     },
     "execution_count": 20,
     "metadata": {},
     "output_type": "execute_result"
    }
   ],
   "source": [
    "env.env._p.getBaseVelocity(env.env.robot_body.bodies[env.env.robot_body.bodyIndex])"
   ]
  },
  {
   "cell_type": "code",
   "execution_count": 21,
   "id": "5741130d-8e74-47ef-9c14-d512fb32bab1",
   "metadata": {},
   "outputs": [
    {
     "data": {
      "text/plain": [
       "(65.44984694978736,\n",
       " 1.5,\n",
       " (1.636246173744684, 1.636246173744684, 1.636246173744684),\n",
       " (0.0, 0.0, 0.0),\n",
       " (0.0, 0.0, 0.0, 1.0),\n",
       " 0.0,\n",
       " 0.0,\n",
       " 0.0,\n",
       " -1.0,\n",
       " -1.0,\n",
       " 2,\n",
       " 0.25)"
      ]
     },
     "execution_count": 21,
     "metadata": {},
     "output_type": "execute_result"
    }
   ],
   "source": [
    "env.env._p.getDynamicsInfo(env.env.robot_body.bodies[env.env.robot_body.bodyIndex], -1)"
   ]
  },
  {
   "cell_type": "code",
   "execution_count": 42,
   "id": "aac16c23-ddd8-4f0e-8b68-055294b21657",
   "metadata": {},
   "outputs": [],
   "source": [
    "# default lateral friction = 1.5\n",
    "# goal: log sample from [1e-4, 1e4]  # 1e2 - 1e4 might not be much change? As soon as the robot doesn't slide, more friction doesn't change anything"
   ]
  },
  {
   "cell_type": "code",
   "execution_count": 36,
   "id": "eb9deb83-56cc-45d9-85df-8dd18636404c",
   "metadata": {},
   "outputs": [
    {
     "data": {
      "text/plain": [
       "0.0006233877294548615"
      ]
     },
     "execution_count": 36,
     "metadata": {},
     "output_type": "execute_result"
    }
   ],
   "source": [
    "10**np.random.uniform(-4, 4)"
   ]
  },
  {
   "cell_type": "code",
   "execution_count": 41,
   "id": "f8e6712e-14c5-490d-aa8c-47ba6306435b",
   "metadata": {},
   "outputs": [
    {
     "data": {
      "text/plain": [
       "(65.44984694978736,\n",
       " 6652.517210959894,\n",
       " (1.636246173744684, 1.636246173744684, 1.636246173744684),\n",
       " (0.0, 0.0, 0.0),\n",
       " (0.0, 0.0, 0.0, 1.0),\n",
       " 0.0,\n",
       " 0.0,\n",
       " 0.0,\n",
       " -1.0,\n",
       " -1.0,\n",
       " 2,\n",
       " 0.25)"
      ]
     },
     "execution_count": 41,
     "metadata": {},
     "output_type": "execute_result"
    }
   ],
   "source": [
    "env.env._p.changeDynamics(env.env.robot_body.bodies[env.env.robot_body.bodyIndex], -1, lateralFriction=10**np.random.uniform(-4, 4))\n",
    "\n",
    "env.env._p.getDynamicsInfo(env.env.robot_body.bodies[env.env.robot_body.bodyIndex], -1)"
   ]
  },
  {
   "cell_type": "code",
   "execution_count": 54,
   "id": "625aca21-cdb0-4f9f-b61d-42d64d5cacf0",
   "metadata": {},
   "outputs": [],
   "source": []
  },
  {
   "cell_type": "code",
   "execution_count": 54,
   "id": "8efcaa2c-d372-4a9e-b156-ac3810fd3d27",
   "metadata": {},
   "outputs": [],
   "source": [
    "import numpy as np\n",
    "from pybulletgym.envs.mujoco.envs.locomotion.ant_env import AntMuJoCoEnv\n",
    "\n",
    "class SlindingAntEnv(AntMuJoCoEnv):\n",
    "    '''\n",
    "    Change the friction between Ant and Floor every change_steps timesteps to a random number between 10**log_low and 10**log_high\n",
    "    '''\n",
    "    def __init__(self, change_steps, log_low=-4, log_high=4):\n",
    "        super(SlindingAntEnv, self).__init__()\n",
    "        self.change_steps = change_steps\n",
    "        self.log_low = log_low\n",
    "        self.log_high = log_high\n",
    "        self.counter = 0 # won't be reset when the environment is reset\n",
    "        \n",
    "    def step(self, a):\n",
    "        ret = super(SlindingAntEnv, self).step(a)\n",
    "        self.counter += 1\n",
    "        if self.counter == self.change_steps:\n",
    "            self.counter = 0\n",
    "            self._p.changeDynamics(self.robot_body.bodies[self.robot_body.bodyIndex], -1, lateralFriction=10**np.random.uniform(self.log_low, self.log_high))\n",
    "        return ret"
   ]
  },
  {
   "cell_type": "code",
   "execution_count": 55,
   "id": "2d785eeb-3b02-438a-8df5-cac3eb57aad2",
   "metadata": {},
   "outputs": [
    {
     "name": "stdout",
     "output_type": "stream",
     "text": [
      "WalkerBase::__init__\n"
     ]
    },
    {
     "name": "stderr",
     "output_type": "stream",
     "text": [
      "C:\\Users\\chris\\anaconda3\\lib\\site-packages\\gym\\logger.py:34: UserWarning: \u001b[33mWARN: Box bound precision lowered by casting to float32\u001b[0m\n",
      "  warnings.warn(colorize(\"%s: %s\" % (\"WARN\", msg % args), \"yellow\"))\n"
     ]
    }
   ],
   "source": [
    "env = SlindingAntEnv(3)"
   ]
  },
  {
   "cell_type": "code",
   "execution_count": 56,
   "id": "7e85db5b-dd0a-4b87-9794-904a154319a1",
   "metadata": {},
   "outputs": [],
   "source": [
    "ppo = PPO(CPPO_Policy, env, \n",
    "        policy_kwargs={'net_arch': [{'pi': [256, 256], 'vf':[256, 256]}], \n",
    "                       'activation_fn': nn.Tanh, \n",
    "                       'optimizer_kwargs':{'m':10}})"
   ]
  },
  {
   "cell_type": "code",
   "execution_count": 57,
   "id": "4d1501dc-a7f3-4f25-a5d4-1c84c58f1c4c",
   "metadata": {},
   "outputs": [
    {
     "data": {
      "text/plain": [
       "<stable_baselines3.ppo.ppo.PPO at 0x2e73e797b80>"
      ]
     },
     "execution_count": 57,
     "metadata": {},
     "output_type": "execute_result"
    }
   ],
   "source": [
    "ppo.learn(total_timesteps=10)"
   ]
  },
  {
   "cell_type": "code",
   "execution_count": 59,
   "id": "56df593f-55dd-40d5-a33c-4da5a1b70a17",
   "metadata": {},
   "outputs": [
    {
     "data": {
      "text/plain": [
       "(65.44984694978736,\n",
       " 0.004875707641373354,\n",
       " (1.636246173744684, 1.636246173744684, 1.636246173744684),\n",
       " (0.0, 0.0, 0.0),\n",
       " (0.0, 0.0, 0.0, 1.0),\n",
       " 0.0,\n",
       " 0.0,\n",
       " 0.0,\n",
       " -1.0,\n",
       " -1.0,\n",
       " 2,\n",
       " 0.25)"
      ]
     },
     "execution_count": 59,
     "metadata": {},
     "output_type": "execute_result"
    }
   ],
   "source": [
    "env._p.getDynamicsInfo(env.robot_body.bodies[env.robot_body.bodyIndex], -1)"
   ]
  },
  {
   "cell_type": "code",
   "execution_count": null,
   "id": "ade45c63-ee01-4ff7-9c72-0403c1d42e8a",
   "metadata": {},
   "outputs": [],
   "source": []
  },
  {
   "cell_type": "code",
   "execution_count": null,
   "id": "0c86077f-ad47-437c-a4bb-7809a3a49602",
   "metadata": {},
   "outputs": [],
   "source": []
  },
  {
   "cell_type": "code",
   "execution_count": null,
   "id": "53cb9ad1-1754-4b9e-b1a4-25aa5b2a0335",
   "metadata": {},
   "outputs": [],
   "source": []
  },
  {
   "cell_type": "code",
   "execution_count": 60,
   "id": "8bb31363-9b43-4b0c-8efd-1d0003b773e9",
   "metadata": {},
   "outputs": [],
   "source": [
    "import torch\n",
    "from torch import nn\n",
    "import numpy as np\n",
    "import matplotlib.pyplot as plt \n",
    "from tqdm.auto import tqdm\n",
    "\n",
    "import gym\n",
    "import pybulletgym\n",
    "\n",
    "from stable_baselines3.ppo import PPO\n",
    "\n",
    "from cppo import CPPO_Policy\n",
    "from env import SlindingAntEnv"
   ]
  },
  {
   "cell_type": "code",
   "execution_count": 61,
   "id": "ec178797-1022-4295-a6ed-684bfc53f131",
   "metadata": {},
   "outputs": [
    {
     "name": "stdout",
     "output_type": "stream",
     "text": [
      "WalkerBase::__init__\n"
     ]
    },
    {
     "name": "stderr",
     "output_type": "stream",
     "text": [
      "C:\\Users\\chris\\anaconda3\\lib\\site-packages\\gym\\logger.py:34: UserWarning: \u001b[33mWARN: Box bound precision lowered by casting to float32\u001b[0m\n",
      "  warnings.warn(colorize(\"%s: %s\" % (\"WARN\", msg % args), \"yellow\"))\n"
     ]
    }
   ],
   "source": [
    "env = SlindingAntEnv(3)"
   ]
  },
  {
   "cell_type": "code",
   "execution_count": 64,
   "id": "4524461e-f312-4123-8379-7faf8c302ad2",
   "metadata": {},
   "outputs": [
    {
     "name": "stdout",
     "output_type": "stream",
     "text": [
      "friction: 1.5\n"
     ]
    }
   ],
   "source": [
    "env.reset()\n",
    "print('friction:', env._p.getDynamicsInfo(env.robot_body.bodies[env.robot_body.bodyIndex], -1)[1])"
   ]
  },
  {
   "cell_type": "code",
   "execution_count": 65,
   "id": "919aaef5-569d-4567-aace-ce73968be57d",
   "metadata": {},
   "outputs": [],
   "source": [
    "ppo = PPO(CPPO_Policy, env, \n",
    "        policy_kwargs={'net_arch': [{'pi': [256, 256], 'vf':[256, 256]}], \n",
    "                       'activation_fn': nn.Tanh, \n",
    "                       'optimizer_kwargs':{'m':10}})"
   ]
  },
  {
   "cell_type": "code",
   "execution_count": 66,
   "id": "5bb0825d-f50b-4e4d-938c-c22cb6ffb80e",
   "metadata": {},
   "outputs": [
    {
     "data": {
      "text/plain": [
       "<stable_baselines3.ppo.ppo.PPO at 0x2e73e788700>"
      ]
     },
     "execution_count": 66,
     "metadata": {},
     "output_type": "execute_result"
    }
   ],
   "source": [
    "ppo.learn(total_timesteps=10)"
   ]
  },
  {
   "cell_type": "code",
   "execution_count": 67,
   "id": "d7a46384-be47-42e8-8efe-2482b01e2ea0",
   "metadata": {},
   "outputs": [
    {
     "name": "stdout",
     "output_type": "stream",
     "text": [
      "friction: 3870.914906190144\n"
     ]
    }
   ],
   "source": [
    "print('friction:', env._p.getDynamicsInfo(env.robot_body.bodies[env.robot_body.bodyIndex], -1)[1])"
   ]
  },
  {
   "cell_type": "code",
   "execution_count": null,
   "id": "3851f1f1-5df3-491f-956a-941a9d000b8d",
   "metadata": {},
   "outputs": [],
   "source": []
  }
 ],
 "metadata": {
  "kernelspec": {
   "display_name": "Python 3 (ipykernel)",
   "language": "python",
   "name": "python3"
  },
  "language_info": {
   "codemirror_mode": {
    "name": "ipython",
    "version": 3
   },
   "file_extension": ".py",
   "mimetype": "text/x-python",
   "name": "python",
   "nbconvert_exporter": "python",
   "pygments_lexer": "ipython3",
   "version": "3.9.7"
  }
 },
 "nbformat": 4,
 "nbformat_minor": 5
}
