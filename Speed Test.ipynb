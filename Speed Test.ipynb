{
 "cells": [
  {
   "cell_type": "code",
   "execution_count": 1,
   "id": "62e7d1e3-fbe2-4e66-9f13-91807c13218b",
   "metadata": {},
   "outputs": [
    {
     "name": "stderr",
     "output_type": "stream",
     "text": [
      "C:\\Users\\chris\\anaconda3\\envs\\cbp\\lib\\site-packages\\tqdm\\auto.py:22: TqdmWarning: IProgress not found. Please update jupyter and ipywidgets. See https://ipywidgets.readthedocs.io/en/stable/user_install.html\n",
      "  from .autonotebook import tqdm as notebook_tqdm\n"
     ]
    }
   ],
   "source": [
    "import torch\n",
    "\n",
    "from stable_baselines3.ppo import PPO\n",
    "from stable_baselines3.common.monitor import Monitor\n",
    "from stable_baselines3.common.env_util import make_vec_env\n",
    "from stable_baselines3.common.vec_env import DummyVecEnv, SubprocVecEnv, VecVideoRecorder\n",
    "\n",
    "from cppo import CPPO_Policy\n",
    "from env import SlidingAntEnv\n",
    "\n",
    "from env import SlidingAntEnv\n",
    "from utils import WeightLogger, AgesLogger, SlidingEval\n",
    "from sb3_logger import configure_logger, WandbOutputFormat"
   ]
  },
  {
   "cell_type": "code",
   "execution_count": 2,
   "id": "e60dfe19-a0e2-4fd9-a5b7-7138e94aa590",
   "metadata": {},
   "outputs": [],
   "source": [
    "from stable_baselines3.common.evaluation import evaluate_policy"
   ]
  },
  {
   "cell_type": "code",
   "execution_count": null,
   "id": "39d966d8-a59a-400b-a982-37409c7c68bf",
   "metadata": {},
   "outputs": [],
   "source": []
  },
  {
   "cell_type": "code",
   "execution_count": 3,
   "id": "4f5ccd53-210b-435e-8cef-241764a089c6",
   "metadata": {},
   "outputs": [],
   "source": [
    "import multiprocessing as mp\n",
    "import numpy as np"
   ]
  },
  {
   "cell_type": "code",
   "execution_count": 40,
   "id": "bc0a5f76-8696-497e-b189-95093c1344f7",
   "metadata": {},
   "outputs": [],
   "source": [
    "input_queue = mp.Queue()\n",
    "output_queue = mp.Queue()\n",
    "done = mp.Value('b', False)"
   ]
  },
  {
   "cell_type": "code",
   "execution_count": 41,
   "id": "28b9b8a2-ed09-4455-a940-b6c80394939d",
   "metadata": {},
   "outputs": [],
   "source": [
    "def eval_loop(policy_cls, settings, n_eval_episodes, deterministic, max_steps, input_queue, output_queue, done_flag):\n",
    "    env  = make_vec_env(SlidingAntEnv, 1, env_kwargs={'change_steps':np.inf, 'max_steps':max_steps})\n",
    "    env.reset()\n",
    "    model = PPO(policy_cls, env, **settings)\n",
    "    while not done_flag.value:\n",
    "        timestep, sd, friction = input_queue.get()\n",
    "        env.env_method('set_friction', friction)\n",
    "        for name, tensor in sd.items():\n",
    "            sd[name] = tensor.cuda()\n",
    "        model.policy.load_state_dict(sd)\n",
    "        episode_rewards, episode_lengths = evaluate_policy(\n",
    "            model,\n",
    "            env,\n",
    "            n_eval_episodes=n_eval_episodes,\n",
    "            deterministic=deterministic,\n",
    "            return_episode_rewards=True\n",
    "        )\n",
    "        output_queue.put((float(np.mean(episode_rewards)), np.mean(episode_lengths), timestep))\n",
    "    env.close()"
   ]
  },
  {
   "cell_type": "code",
   "execution_count": null,
   "id": "cebb7ace-2bfd-49e8-877a-180513b664e6",
   "metadata": {},
   "outputs": [],
   "source": []
  },
  {
   "cell_type": "code",
   "execution_count": 42,
   "id": "e4b3c1c3-0f68-4605-a829-b4e804cca796",
   "metadata": {},
   "outputs": [],
   "source": [
    "sd = ppo.policy.state_dict()"
   ]
  },
  {
   "cell_type": "code",
   "execution_count": 43,
   "id": "61a2b6f4-651e-455f-9c5a-d1a91b456870",
   "metadata": {},
   "outputs": [],
   "source": [
    "for name, tensor in sd.items():\n",
    "    sd[name] = tensor.cpu()"
   ]
  },
  {
   "cell_type": "code",
   "execution_count": null,
   "id": "f7557949-6387-4b9d-8941-5bc18d366c5b",
   "metadata": {},
   "outputs": [],
   "source": [
    "mp.Process(target=eval_loop, args=)"
   ]
  },
  {
   "cell_type": "code",
   "execution_count": 48,
   "id": "f3f2d7f4-001b-4113-9fba-e31c120e7746",
   "metadata": {},
   "outputs": [
    {
     "data": {
      "text/plain": [
       "{'policy_kwargs': {'net_arch': [{'pi': [256, 256], 'vf': [256, 256]}],\n",
       "  'activation_fn': torch.nn.modules.activation.Tanh,\n",
       "  'optimizer_kwargs': {'betas': [0.9, 0.999]}}}"
      ]
     },
     "execution_count": 48,
     "metadata": {},
     "output_type": "execute_result"
    }
   ],
   "source": [
    "{'policy_kwargs': ppo.policy_kwargs}"
   ]
  },
  {
   "cell_type": "code",
   "execution_count": 44,
   "id": "3a6074db-e0cd-488f-9028-e065dbfd53c1",
   "metadata": {},
   "outputs": [],
   "source": [
    "input_queue.put((ppo.num_timesteps, sd, ppo.env.get_attr('friction', 0)[0]))"
   ]
  },
  {
   "cell_type": "code",
   "execution_count": 45,
   "id": "ce3fd57c-c37f-45c8-be24-580b402aa5da",
   "metadata": {},
   "outputs": [],
   "source": [
    "eval_loop(learner_class, settings, 1, True, 2000, input_queue, output_queue, done)"
   ]
  },
  {
   "cell_type": "code",
   "execution_count": 46,
   "id": "081a615e-4553-453a-ba5e-3d41e5bfb648",
   "metadata": {},
   "outputs": [
    {
     "name": "stdout",
     "output_type": "stream",
     "text": [
      "(10.19812, 21.0, 12288)\n"
     ]
    }
   ],
   "source": [
    "while not output_queue.empty():\n",
    "    print(output_queue.get_nowait())"
   ]
  },
  {
   "cell_type": "code",
   "execution_count": 108,
   "id": "b28cdbc1-8104-45b5-8756-ef9bb3f8050e",
   "metadata": {},
   "outputs": [],
   "source": [
    "ppo."
   ]
  },
  {
   "cell_type": "code",
   "execution_count": 108,
   "id": "1c86050b-b897-4e1a-adca-39ead74571fe",
   "metadata": {},
   "outputs": [],
   "source": []
  },
  {
   "cell_type": "code",
   "execution_count": 6,
   "id": "a06a3024-599d-48e7-852c-d4a801926483",
   "metadata": {},
   "outputs": [],
   "source": [
    "env = make_vec_env(SlidingAntEnv, 8, seed=42, env_kwargs={'change_steps':10000, 'max_steps':2000, 'seed':42}) #, vec_env_cls=SubprocVecEnv"
   ]
  },
  {
   "cell_type": "code",
   "execution_count": 7,
   "id": "509d0a10-1b7b-42a1-8544-3e1becbb41d8",
   "metadata": {},
   "outputs": [],
   "source": [
    "learner_class = CPPO_Policy #'MlpPolicy' #"
   ]
  },
  {
   "cell_type": "code",
   "execution_count": 8,
   "id": "30aea228-e168-437e-93b6-0adb82115935",
   "metadata": {},
   "outputs": [],
   "source": [
    "settings = {\n",
    "    'n_steps': 4096//8,\n",
    "    'n_epochs': 10,\n",
    "    'batch_size': 128,\n",
    "    'gae_lambda': 0.95,\n",
    "    'gamma': 0.99,\n",
    "    'clip_range': 0.2,\n",
    "    'learning_rate': 1e-4,\n",
    "    'tensorboard_log': './speed/tensorboard',\n",
    "    'device': 'cuda',\n",
    "    'policy_kwargs': {\n",
    "      'net_arch': [{'pi': [256, 256], 'vf': [256, 256]}],\n",
    "      'activation_fn': torch.nn.Tanh,\n",
    "      'optimizer_kwargs': {\n",
    "        'betas': [0.9, 0.999]\n",
    "      }\n",
    "    }\n",
    "}"
   ]
  },
  {
   "cell_type": "code",
   "execution_count": 9,
   "id": "4467b7ce-9836-42eb-b063-7f5a74e70021",
   "metadata": {},
   "outputs": [],
   "source": [
    "ppo = PPO(learner_class, env, seed=42, **settings)"
   ]
  },
  {
   "cell_type": "code",
   "execution_count": 10,
   "id": "262f7503-dab0-4d3a-b2ab-83db422c9081",
   "metadata": {},
   "outputs": [],
   "source": [
    "callbacks = [WeightLogger(), AgesLogger('./speed/ages')] #, SlidingEval(max_steps=2000, n_eval_episodes=1, deterministic=True)"
   ]
  },
  {
   "cell_type": "code",
   "execution_count": 11,
   "id": "9b7ba5e9-2608-4a1d-8ec4-166d3a0000cc",
   "metadata": {},
   "outputs": [
    {
     "name": "stdout",
     "output_type": "stream",
     "text": [
      "CPU times: total: 32.6 s\n",
      "Wall time: 34.4 s\n"
     ]
    },
    {
     "data": {
      "text/plain": [
       "<stable_baselines3.ppo.ppo.PPO at 0x2a811814e50>"
      ]
     },
     "execution_count": 11,
     "metadata": {},
     "output_type": "execute_result"
    }
   ],
   "source": [
    "%%time\n",
    "ppo.learn(total_timesteps=10000, callback=callbacks, tb_log_name='test')"
   ]
  },
  {
   "cell_type": "code",
   "execution_count": null,
   "id": "c3c6b312-33d6-43c6-898f-d55783457c00",
   "metadata": {},
   "outputs": [],
   "source": []
  },
  {
   "cell_type": "code",
   "execution_count": null,
   "id": "0fead199-4f13-4e9c-b345-c394533563d0",
   "metadata": {},
   "outputs": [],
   "source": []
  },
  {
   "cell_type": "code",
   "execution_count": 7,
   "id": "0e3c4c02-2bf4-4a3b-94a6-d579ffbd218b",
   "metadata": {},
   "outputs": [],
   "source": [
    "import cProfile"
   ]
  },
  {
   "cell_type": "code",
   "execution_count": 8,
   "id": "e3644e44-27e4-4d18-97ae-59c62ae9a425",
   "metadata": {},
   "outputs": [],
   "source": [
    "cProfile.run(\"ppo.learn(total_timesteps=10000, callback=callbacks, tb_log_name='test')\", './speed/cppo_stats')"
   ]
  },
  {
   "cell_type": "code",
   "execution_count": 237,
   "id": "144833e3-0406-44d9-aeec-7cc140469194",
   "metadata": {},
   "outputs": [],
   "source": [
    "env.close()"
   ]
  },
  {
   "cell_type": "code",
   "execution_count": null,
   "id": "3e90d6ee-a617-49cc-84c1-fb26cb19cd9f",
   "metadata": {},
   "outputs": [],
   "source": []
  },
  {
   "cell_type": "code",
   "execution_count": 10,
   "id": "d1d90d10-3c3d-4ff9-bc25-9230a8e5966e",
   "metadata": {},
   "outputs": [],
   "source": [
    "import pstats\n",
    "from pstats import SortKey"
   ]
  },
  {
   "cell_type": "code",
   "execution_count": 11,
   "id": "0948ee40-90cd-4aba-9e6e-5233e8358e69",
   "metadata": {},
   "outputs": [],
   "source": [
    "ppo_stats = pstats.Stats('./speed/ppo_stats')\n",
    "cppo_stats = pstats.Stats('./speed/cppo_stats')"
   ]
  },
  {
   "cell_type": "code",
   "execution_count": 14,
   "id": "97c38fa8-8bc7-4090-bbf0-be9d5863ec4a",
   "metadata": {},
   "outputs": [
    {
     "name": "stdout",
     "output_type": "stream",
     "text": [
      "Sat Nov 26 09:48:46 2022    ./speed/ppo_stats\n",
      "\n",
      "         5969307 function calls (5692247 primitive calls) in 41.532 seconds\n",
      "\n",
      "   Random listing order was used\n",
      "   List reduced from 693 to 1 due to restriction <'collect_rollouts'>\n",
      "\n",
      "   ncalls  tottime  percall  cumtime  percall filename:lineno(function)\n",
      "        1    0.169    0.169   22.793   22.793 C:\\Users\\chris\\anaconda3\\envs\\cbp\\lib\\site-packages\\stable_baselines3\\common\\on_policy_algorithm.py:132(collect_rollouts)\n",
      "\n",
      "\n",
      "Sat Nov 26 09:56:35 2022    ./speed/cppo_stats\n",
      "\n",
      "         7615004 function calls (7248344 primitive calls) in 64.962 seconds\n",
      "\n",
      "   Random listing order was used\n",
      "   List reduced from 756 to 1 due to restriction <'collect_rollouts'>\n",
      "\n",
      "   ncalls  tottime  percall  cumtime  percall filename:lineno(function)\n",
      "        1    0.170    0.170   23.214   23.214 C:\\Users\\chris\\anaconda3\\envs\\cbp\\lib\\site-packages\\stable_baselines3\\common\\on_policy_algorithm.py:132(collect_rollouts)\n",
      "\n",
      "\n"
     ]
    },
    {
     "data": {
      "text/plain": [
       "(<pstats.Stats at 0x21b072be640>, <pstats.Stats at 0x21b33d43eb0>)"
      ]
     },
     "execution_count": 14,
     "metadata": {},
     "output_type": "execute_result"
    }
   ],
   "source": [
    "ppo_stats.print_stats('collect_rollouts'), cppo_stats.print_stats('collect_rollouts')"
   ]
  },
  {
   "cell_type": "code",
   "execution_count": 15,
   "id": "347a0e51-b7f7-4d79-8d2e-278108d05bb3",
   "metadata": {},
   "outputs": [
    {
     "name": "stdout",
     "output_type": "stream",
     "text": [
      "Sat Nov 26 09:48:46 2022    ./speed/ppo_stats\n",
      "\n",
      "         5969307 function calls (5692247 primitive calls) in 41.532 seconds\n",
      "\n",
      "   Random listing order was used\n",
      "   List reduced from 693 to 16 due to restriction <'step'>\n",
      "\n",
      "   ncalls  tottime  percall  cumtime  percall filename:lineno(function)\n",
      "     4136    0.021    0.000   11.392    0.003 C:\\Users\\chris\\anaconda3\\envs\\cbp\\lib\\site-packages\\stable_baselines3\\common\\vec_env\\base_vec_env.py:154(step)\n",
      "       40    0.000    0.000    0.000    0.000 C:\\Users\\chris\\anaconda3\\envs\\cbp\\lib\\site-packages\\stable_baselines3\\common\\vec_env\\dummy_vec_env.py:38(step_async)\n",
      "       40    0.000    0.000    0.049    0.001 C:\\Users\\chris\\anaconda3\\envs\\cbp\\lib\\site-packages\\stable_baselines3\\common\\vec_env\\dummy_vec_env.py:41(step_wait)\n",
      "     2560    0.095    0.000    3.815    0.001 C:\\Users\\chris\\anaconda3\\envs\\cbp\\lib\\site-packages\\torch\\optim\\adam.py:105(step)\n",
      "16384/4096    0.028    0.000    0.036    0.000 C:\\Users\\chris\\anaconda3\\envs\\cbp\\lib\\site-packages\\stable_baselines3\\common\\callbacks.py:88(on_step)\n",
      "     4096    0.006    0.000    0.028    0.000 C:\\Users\\chris\\anaconda3\\envs\\cbp\\lib\\site-packages\\stable_baselines3\\common\\callbacks.py:200(_on_step)\n",
      "     4096    0.071    0.000    1.897    0.000 C:\\Users\\chris\\anaconda3\\envs\\cbp\\lib\\site-packages\\stable_baselines3\\common\\vec_env\\subproc_vec_env.py:114(step_async)\n",
      "     4096    0.037    0.000    9.426    0.002 C:\\Users\\chris\\anaconda3\\envs\\cbp\\lib\\site-packages\\stable_baselines3\\common\\vec_env\\subproc_vec_env.py:119(step_wait)\n",
      "       40    0.000    0.000    0.046    0.001 C:\\Users\\chris\\anaconda3\\envs\\cbp\\lib\\site-packages\\stable_baselines3\\common\\monitor.py:85(step)\n",
      "       40    0.000    0.000    0.046    0.001 E:\\JKU Bachelor\\Practical Work - Continual Backprop\\Continual-Backprop\\env.py:26(step)\n",
      "       40    0.001    0.000    0.045    0.001 C:\\Users\\chris\\anaconda3\\envs\\cbp\\lib\\site-packages\\pybullet_envs\\gym_locomotion_envs.py:64(step)\n",
      "     4096    0.001    0.000    0.001    0.000 E:\\JKU Bachelor\\Practical Work - Continual Backprop\\Continual-Backprop\\utils.py:23(_on_step)\n",
      "       40    0.000    0.000    0.010    0.000 C:\\Users\\chris\\anaconda3\\envs\\cbp\\lib\\site-packages\\pybullet_envs\\scene_abstract.py:47(global_step)\n",
      "       40    0.010    0.000    0.010    0.000 C:\\Users\\chris\\anaconda3\\envs\\cbp\\lib\\site-packages\\pybullet_envs\\scene_abstract.py:78(step)\n",
      "     4096    0.001    0.000    0.001    0.000 E:\\JKU Bachelor\\Practical Work - Continual Backprop\\Continual-Backprop\\utils.py:53(_on_step)\n",
      "     4096    0.001    0.000    0.001    0.000 E:\\JKU Bachelor\\Practical Work - Continual Backprop\\Continual-Backprop\\utils.py:103(_on_step)\n",
      "\n",
      "\n",
      "Sat Nov 26 09:56:35 2022    ./speed/cppo_stats\n",
      "\n",
      "         7615004 function calls (7248344 primitive calls) in 64.962 seconds\n",
      "\n",
      "   Random listing order was used\n",
      "   List reduced from 756 to 17 due to restriction <'step'>\n",
      "\n",
      "   ncalls  tottime  percall  cumtime  percall filename:lineno(function)\n",
      "       40    0.000    0.000    0.000    0.000 C:\\Users\\chris\\anaconda3\\envs\\cbp\\lib\\site-packages\\stable_baselines3\\common\\vec_env\\dummy_vec_env.py:38(step_async)\n",
      "       40    0.000    0.000    0.047    0.001 C:\\Users\\chris\\anaconda3\\envs\\cbp\\lib\\site-packages\\stable_baselines3\\common\\vec_env\\dummy_vec_env.py:41(step_wait)\n",
      "     4136    0.018    0.000   11.664    0.003 C:\\Users\\chris\\anaconda3\\envs\\cbp\\lib\\site-packages\\stable_baselines3\\common\\vec_env\\base_vec_env.py:154(step)\n",
      "     4096    0.073    0.000    1.947    0.000 C:\\Users\\chris\\anaconda3\\envs\\cbp\\lib\\site-packages\\stable_baselines3\\common\\vec_env\\subproc_vec_env.py:114(step_async)\n",
      "     4096    0.033    0.000    9.653    0.002 C:\\Users\\chris\\anaconda3\\envs\\cbp\\lib\\site-packages\\stable_baselines3\\common\\vec_env\\subproc_vec_env.py:119(step_wait)\n",
      "16384/4096    0.022    0.000    0.031    0.000 C:\\Users\\chris\\anaconda3\\envs\\cbp\\lib\\site-packages\\stable_baselines3\\common\\callbacks.py:88(on_step)\n",
      "     4096    0.006    0.000    0.023    0.000 C:\\Users\\chris\\anaconda3\\envs\\cbp\\lib\\site-packages\\stable_baselines3\\common\\callbacks.py:200(_on_step)\n",
      "       40    0.000    0.000    0.044    0.001 C:\\Users\\chris\\anaconda3\\envs\\cbp\\lib\\site-packages\\stable_baselines3\\common\\monitor.py:85(step)\n",
      "     2560    2.042    0.001   23.078    0.009 E:\\JKU Bachelor\\Practical Work - Continual Backprop\\Continual-Backprop\\cbp.py:51(step)\n",
      "     2560    0.098    0.000   17.411    0.007 E:\\JKU Bachelor\\Practical Work - Continual Backprop\\Continual-Backprop\\cadam.py:12(step)\n",
      "       40    0.000    0.000    0.044    0.001 E:\\JKU Bachelor\\Practical Work - Continual Backprop\\Continual-Backprop\\env.py:26(step)\n",
      "       40    0.001    0.000    0.044    0.001 C:\\Users\\chris\\anaconda3\\envs\\cbp\\lib\\site-packages\\pybullet_envs\\gym_locomotion_envs.py:64(step)\n",
      "     4096    0.001    0.000    0.001    0.000 E:\\JKU Bachelor\\Practical Work - Continual Backprop\\Continual-Backprop\\utils.py:23(_on_step)\n",
      "       40    0.000    0.000    0.009    0.000 C:\\Users\\chris\\anaconda3\\envs\\cbp\\lib\\site-packages\\pybullet_envs\\scene_abstract.py:47(global_step)\n",
      "       40    0.009    0.000    0.009    0.000 C:\\Users\\chris\\anaconda3\\envs\\cbp\\lib\\site-packages\\pybullet_envs\\scene_abstract.py:78(step)\n",
      "     4096    0.001    0.000    0.001    0.000 E:\\JKU Bachelor\\Practical Work - Continual Backprop\\Continual-Backprop\\utils.py:53(_on_step)\n",
      "     4096    0.001    0.000    0.001    0.000 E:\\JKU Bachelor\\Practical Work - Continual Backprop\\Continual-Backprop\\utils.py:103(_on_step)\n",
      "\n",
      "\n"
     ]
    },
    {
     "data": {
      "text/plain": [
       "(<pstats.Stats at 0x21b072be640>, <pstats.Stats at 0x21b33d43eb0>)"
      ]
     },
     "execution_count": 15,
     "metadata": {},
     "output_type": "execute_result"
    }
   ],
   "source": [
    "ppo_stats.print_stats('step'), cppo_stats.print_stats('step')"
   ]
  },
  {
   "cell_type": "code",
   "execution_count": 9,
   "id": "c1c9b9b1-3ae1-4756-9203-5c8f9d4b7ffc",
   "metadata": {},
   "outputs": [],
   "source": [
    "from copy import deepcopy"
   ]
  },
  {
   "cell_type": "code",
   "execution_count": 10,
   "id": "dc3415ea-fdfc-4332-a7a1-2cfaf054ebcb",
   "metadata": {},
   "outputs": [],
   "source": [
    "buff = deepcopy(ppo.rollout_buffer)"
   ]
  },
  {
   "cell_type": "code",
   "execution_count": 11,
   "id": "5918594f-41ff-468e-af80-a82a1a18f8da",
   "metadata": {},
   "outputs": [],
   "source": [
    "class DummyLogger():\n",
    "    def record(self, *args, **kwargs):\n",
    "        pass"
   ]
  },
  {
   "cell_type": "code",
   "execution_count": 34,
   "id": "f2638ce6-a766-4e9b-b7e9-f684437e9223",
   "metadata": {},
   "outputs": [],
   "source": []
  },
  {
   "cell_type": "code",
   "execution_count": 72,
   "id": "1d033dca-9197-488d-a0e8-ccd0bc683b97",
   "metadata": {},
   "outputs": [],
   "source": [
    "import torch\n",
    "from torch import Tensor\n",
    "from typing import List, Optional\n",
    "from torch.optim import Adam\n",
    "\n",
    "\n",
    "class CAdam(Adam):\n",
    "    r\"\"\"\n",
    "    Barebone Adam adaptation with 'step' parameter for each weight in a parameter Tensor, instead of one number for the whole Tensor\n",
    "    \"\"\"\n",
    "\n",
    "    @torch.no_grad()\n",
    "    def step(self, closure=None):\n",
    "        \"\"\"Performs a single optimization step.\n",
    "\n",
    "        Args:\n",
    "            closure (callable, optional): A closure that reevaluates the model\n",
    "                and returns the loss.\n",
    "        \"\"\"\n",
    "        self._cuda_graph_capture_health_check()\n",
    "\n",
    "        loss = None\n",
    "        if closure is not None:\n",
    "            with torch.enable_grad():\n",
    "                loss = closure()\n",
    "\n",
    "        for group in self.param_groups:\n",
    "            params_with_grad = []\n",
    "            grads = []\n",
    "            exp_avgs = []\n",
    "            exp_avg_sqs = []\n",
    "            max_exp_avg_sqs = []\n",
    "            state_steps = []\n",
    "            beta1, beta2 = group['betas']\n",
    "\n",
    "            for p in group['params']:\n",
    "                if p.grad is not None:\n",
    "                    params_with_grad.append(p)\n",
    "                    if p.grad.is_sparse:\n",
    "                        raise RuntimeError('Adam does not support sparse gradients, please consider SparseAdam instead')\n",
    "                    grads.append(p.grad)\n",
    "\n",
    "                    state = self.state[p]\n",
    "                    # Lazy state initialization\n",
    "                    if len(state) == 0:\n",
    "                        ### CHANGED ###\n",
    "                        #state['step'] = torch.zeros((1,), dtype=torch.float, device=p.device) \\\n",
    "                        #    if self.defaults['capturable'] else torch.tensor(0.)\n",
    "                        state['step'] = torch.zeros_like(p, memory_format=torch.preserve_format, device=p.device)\n",
    "                        ###############\n",
    "                        \n",
    "                        \n",
    "                        # Exponential moving average of gradient values\n",
    "                        state['exp_avg'] = torch.zeros_like(p, memory_format=torch.preserve_format, device=p.device)\n",
    "                        # Exponential moving average of squared gradient values\n",
    "                        state['exp_avg_sq'] = torch.zeros_like(p, memory_format=torch.preserve_format, device=p.device)\n",
    "                        if group['amsgrad']:\n",
    "                            # Maintains max of all exp. moving avg. of sq. grad. values\n",
    "                            state['max_exp_avg_sq'] = torch.zeros_like(p, memory_format=torch.preserve_format)\n",
    "\n",
    "                    exp_avgs.append(state['exp_avg'])\n",
    "                    exp_avg_sqs.append(state['exp_avg_sq'])\n",
    "\n",
    "                    if group['amsgrad']:\n",
    "                        max_exp_avg_sqs.append(state['max_exp_avg_sq'])\n",
    "\n",
    "                    state_steps.append(state['step'])\n",
    "\n",
    "            cadam(params_with_grad,\n",
    "                 grads,\n",
    "                 exp_avgs,\n",
    "                 exp_avg_sqs,\n",
    "                 max_exp_avg_sqs,\n",
    "                 state_steps,\n",
    "                 amsgrad=group['amsgrad'],\n",
    "                 beta1=beta1,\n",
    "                 beta2=beta2,\n",
    "                 lr=group['lr'],\n",
    "                 weight_decay=group['weight_decay'],\n",
    "                 eps=group['eps'],\n",
    "                 maximize=group['maximize'],\n",
    "                 foreach=group['foreach'],\n",
    "                 capturable=group['capturable'])\n",
    "\n",
    "        return loss\n",
    "\n",
    "\n",
    "def cadam(params: List[Tensor],\n",
    "         grads: List[Tensor],\n",
    "         exp_avgs: List[Tensor],\n",
    "         exp_avg_sqs: List[Tensor],\n",
    "         max_exp_avg_sqs: List[Tensor],\n",
    "         state_steps: List[Tensor],\n",
    "         # kwonly args with defaults are not supported by functions compiled with torchscript issue #70627\n",
    "         # setting this as kwarg for now as functional API is compiled by torch/distributed/optim\n",
    "         foreach: bool = None,\n",
    "         capturable: bool = False,\n",
    "         *,\n",
    "         amsgrad: bool,\n",
    "         beta1: float,\n",
    "         beta2: float,\n",
    "         lr: float,\n",
    "         weight_decay: float,\n",
    "         eps: float,\n",
    "         maximize: bool):\n",
    "    r\"\"\"Functional API that performs Adam algorithm computation.\n",
    "    See :class:`~torch.optim.Adam` for details.\n",
    "    \"\"\"\n",
    "\n",
    "    if not all([isinstance(t, torch.Tensor) for t in state_steps]):\n",
    "        raise RuntimeError(\"API has changed, `state_steps` argument must contain a list of singleton tensors\")\n",
    "\n",
    "    if foreach is None:\n",
    "        # Placeholder for more complex foreach logic to be added when value is not set\n",
    "        foreach = False\n",
    "\n",
    "    if foreach and torch.jit.is_scripting():\n",
    "        raise RuntimeError('torch.jit.script not supported with foreach optimizers')\n",
    "\n",
    "    if foreach and not torch.jit.is_scripting():\n",
    "        ### CHANGED ###\n",
    "        #func = _multi_tensor_adam\n",
    "        raise NotImplementedError()\n",
    "        ###############\n",
    "    else:\n",
    "        func = _single_tensor_cadam\n",
    "\n",
    "    func(params,\n",
    "         grads,\n",
    "         exp_avgs,\n",
    "         exp_avg_sqs,\n",
    "         max_exp_avg_sqs,\n",
    "         state_steps,\n",
    "         amsgrad=amsgrad,\n",
    "         beta1=beta1,\n",
    "         beta2=beta2,\n",
    "         lr=lr,\n",
    "         weight_decay=weight_decay,\n",
    "         eps=eps,\n",
    "         maximize=maximize,\n",
    "         capturable=capturable)\n",
    "\n",
    "@torch.jit.script\n",
    "def _cadam_calcs(param, grad, exp_avg, exp_avg_sq, step, beta1: float, beta2: float, lr: float, eps: float, weight_decay: float):\n",
    "    step.add_(1)\n",
    "    if weight_decay != 0:\n",
    "        grad = grad.add(param, alpha=weight_decay)\n",
    "        \n",
    "    exp_avg = exp_avg.mul(beta1).add(grad, alpha=1 - beta1)\n",
    "    exp_avg_sq = exp_avg_sq.mul(beta2).addcmul(grad, grad.conj(), value=1 - beta2)\n",
    "    bias_correction1 = 1 - beta1 ** step\n",
    "    bias_correction2 = 1 - beta2 ** step\n",
    "    step_size = lr / bias_correction1\n",
    "    bias_correction2_sqrt = bias_correction2.sqrt()\n",
    "    denom = (exp_avg_sq.sqrt() / bias_correction2_sqrt).add(eps)\n",
    "    return (exp_avg / denom).mul(step_size)\n",
    "\n",
    "def _single_tensor_cadam(params: List[Tensor],\n",
    "                        grads: List[Tensor],\n",
    "                        exp_avgs: List[Tensor],\n",
    "                        exp_avg_sqs: List[Tensor],\n",
    "                        max_exp_avg_sqs: List[Tensor],\n",
    "                        state_steps: List[Tensor],\n",
    "                        *,\n",
    "                        amsgrad: bool,\n",
    "                        beta1: float,\n",
    "                        beta2: float,\n",
    "                        lr: float,\n",
    "                        weight_decay: float,\n",
    "                        eps: float,\n",
    "                        maximize: bool,\n",
    "                        capturable: bool):\n",
    "    \n",
    "    for i, param in enumerate(params):\n",
    "\n",
    "        grad = grads[i] if not maximize else -grads[i]\n",
    "        exp_avg = exp_avgs[i]\n",
    "        exp_avg_sq = exp_avg_sqs[i]\n",
    "        step_t = state_steps[i]\n",
    "\n",
    "        if capturable:\n",
    "            assert param.is_cuda and step_t.is_cuda, \"If capturable=True, params and state_steps must be CUDA tensors.\"\n",
    "            \n",
    "        param.sub_(_cadam_calcs(param, grad, exp_avg, exp_avg_sq, step_t, beta1, beta2, lr, eps, weight_decay))"
   ]
  },
  {
   "cell_type": "code",
   "execution_count": 232,
   "id": "3719a684-7ae8-408a-b23f-c5fc30794c09",
   "metadata": {},
   "outputs": [],
   "source": [
    "from typing import Dict, Callable, Tuple\n",
    "import torch\n",
    "import math\n",
    "from stable_baselines3.common.utils import get_device\n",
    "\n",
    "@torch.jit.script\n",
    "def _hook_calcs(cbp_vals: Dict[str, torch.Tensor], out: torch.Tensor, eta: torch.Tensor):\n",
    "    # NOTE Seems CBP is only described for sequential input with gradient updates at each step.\n",
    "    #      Since PPO is based on batched environment data, changes have to be made\n",
    "    #      I will therefore work with means over the baches\n",
    "    cbp_vals['age'].add_(1)\n",
    "    cbp_vals['h'] = out.mean(0).detach_()\n",
    "    cbp_vals['fhat'] = cbp_vals['f'] / (1 - eta**cbp_vals['age'])\n",
    "    cbp_vals['f'].mul_(eta).add_((1-eta)*cbp_vals['h'])\n",
    "    \n",
    "@torch.jit.ignore\n",
    "def sample_weights(size: Tuple[int, int], device: torch.device):\n",
    "    sample = torch.empty(size, device=device)\n",
    "    torch.nn.init.kaiming_uniform_(sample, a=math.sqrt(5))\n",
    "    return sample\n",
    "    \n",
    "@torch.jit.script\n",
    "def _step_calcs(cbp_vals: Dict[str, torch.Tensor],\n",
    "                pre_state: Dict[str, torch.Tensor],\n",
    "                post_state: Dict[str, torch.Tensor],\n",
    "                pre_linear: torch.nn.Parameter,\n",
    "                post_linear: torch.nn.Parameter,\n",
    "                eta: float, m: int, rho: float, eps: float,\n",
    "                #sample_weights: torch.jit.ScriptFunction # callables not supported jet\n",
    "               ):\n",
    "    pre_w = pre_linear.abs().sum(1).detach_().add_(eps) # avoid division by zero\n",
    "    post_w = post_linear.abs().sum(0).detach_()\n",
    "    \n",
    "    y = (cbp_vals['h'] - cbp_vals['fhat']).abs_().mul_(post_w).div_(pre_w)\n",
    "    cbp_vals['u'].mul_(eta).add_((1-eta)*y)\n",
    "    \n",
    "    uhat = cbp_vals['u'] / (1 - eta**cbp_vals['age'])\n",
    "    \n",
    "    eligible = cbp_vals['age'] > m\n",
    "    if eligible.any() and torch.rand(1) < len(uhat)*rho:  # use n_l* rho as a probability of replacing a single feature\n",
    "        ascending = uhat.argsort()\n",
    "        r = ascending[eligible[ascending]]   # sort eligible indices according to their utility\n",
    "        #r = r[:math.ceil(uhat.shape[0]*self.rho)]  # choose top k worst performing features    # using ceil because otherwise nothing ever gets reset int(256*10**-4)=0\n",
    "        r = r[[0]]  # choose the worst feature\n",
    "        \n",
    "        pre_linear.index_copy_(0, r, sample_weights((len(r), pre_linear.shape[1]), device=pre_linear.device))\n",
    "        post_linear.index_fill_(1, r, 0.)\n",
    "        \n",
    "        cbp_vals['u'].index_fill_(0, r, 0.)\n",
    "        cbp_vals['f'].index_fill_(0, r, 0.)\n",
    "        cbp_vals['age'].index_fill_(0, r, 0)\n",
    "        \n",
    "        ### Adam resets\n",
    "        pre_state['step'].index_fill_(0, r, 0)\n",
    "        pre_state['exp_avg'].index_fill_(0, r, 0.)\n",
    "        pre_state['exp_avg_sq'].index_fill_(0, r, 0.)\n",
    "        \n",
    "        post_state['step'].index_fill_(1, r, 0)\n",
    "        post_state['exp_avg'].index_fill_(1, r, 0.)\n",
    "        post_state['exp_avg_sq'].index_fill_(1, r, 0.)\n",
    "\n",
    "class CBP(CAdam):\n",
    "    '''\n",
    "    Open questions:\n",
    "        How should batches be dealth with?\n",
    "            For now I calculate the mean over the batch and handle that like in the sequential case\n",
    "        How many features are actually replaced every iteration? Their n_l and rho don't seem to work, as 256 * 10**-4 < 1. Is this supposed to be a probability?\n",
    "            # For now math.ceil is used, so every iteration 1 usit is replaced. This doesn't make sense, since when n_l < m then the features are just replaced in order as they mature.\n",
    "            Changed to using n_l * rho as a probability of replacing the worst performing feature\n",
    "    '''\n",
    "    def __init__(self,\n",
    "                 params,                 # all parameters to be optimized by Adam\n",
    "                 linear_layers,          # List[List[Linear]], a list of linearities for each separate network (policy, value, ...), in the order they are executed\n",
    "                 activation_layers,      # List[List[Activation]], a list of activation layers for each separate network (policy, value, ...), in the order they are executed. Forward hooks are added to these\n",
    "                 output_linears,         # List[Linear], a list of each network's last Linear layer\n",
    "                 eta=0.99,               # running average discount factor\n",
    "                 m=int(5e3),             # maturity threshold, only features with age > m are elligible to be replaced\n",
    "                 rho=10**-4,             # replacement rate, controls how frequently features are replaced                                                    # TODO: change description\n",
    "                 sample_weights=None,    # functiion, take size and device as input and return a tensor of the given size with newly initialized weights\n",
    "                 eps=1e-8,               # small additive value to avoid division by zero\n",
    "                 device = 'auto',\n",
    "                 **kwargs):\n",
    "        super(CBP, self).__init__(params, **kwargs)\n",
    "        self.linear_layers = linear_layers\n",
    "        self.activation_layers = activation_layers\n",
    "        self.cbp_vals = {}\n",
    "        self.output_linears = output_linears\n",
    "        self.eta = eta\n",
    "        self.m = m\n",
    "        self.rho = rho\n",
    "        \n",
    "        self.dev = get_device(device)\n",
    "        \n",
    "        assert len(self.linear_layers) == len(self.activation_layers)\n",
    "        for linears, activations in zip(self.linear_layers, self.activation_layers):\n",
    "            self._add_hooks(linears, activations)\n",
    "        \n",
    "        if sample_weights is None:\n",
    "            def sample_weights(size, device):\n",
    "                sample = torch.empty(size, device=device)\n",
    "                torch.nn.init.kaiming_uniform_(sample, a=math.sqrt(5))\n",
    "                return sample\n",
    "        self.sample_weights = sample_weights\n",
    "        self.eps = eps\n",
    "    \n",
    "    @torch.no_grad()\n",
    "    def step(self):\n",
    "        super(CBP, self).step()\n",
    "        for linears, output_linear in zip(self.linear_layers, self.output_linears): # cycle through models\n",
    "            for current_linear, next_linear in zip(linears, linears[1:] + [output_linear]): # cycle through layers\n",
    "                cbp_vals = self.cbp_vals[current_linear]\n",
    "                pre_state = self.state[current_linear.weight]\n",
    "                post_state = self.state[next_linear.weight]\n",
    "                \n",
    "                _step_calcs(cbp_vals, pre_state, post_state, current_linear.weight, next_linear.weight, self.eta, self.m, self.rho, self.eps) #self.sample_weights)\n",
    "        \n",
    "    def _hook_gen(self, linear_layer):\n",
    "        num_units = linear_layer.weight.shape[0]\n",
    "        self.cbp_vals[linear_layer] = {\n",
    "            'age':  torch.zeros(num_units, dtype=int, device=self.dev), \n",
    "            'h':    torch.zeros(num_units, device=self.dev),\n",
    "            'f':    torch.zeros(num_units, device=self.dev),\n",
    "            'fhat': torch.zeros(num_units, device=self.dev),\n",
    "            'u':    torch.zeros(num_units, device=self.dev)\n",
    "        }\n",
    "        \n",
    "        def hook(mod, inp, out):\n",
    "            if mod.training:\n",
    "                cbp_vals = self.cbp_vals[linear_layer]\n",
    "                with torch.no_grad():\n",
    "                    _hook_calcs(cbp_vals, out, self.eta)\n",
    "        return hook\n",
    "    \n",
    "    def _add_hooks(self, linears, activations):\n",
    "        assert len(linears) == len(activations\n",
    "                                  )\n",
    "        for lin, act in zip(linears, activations):\n",
    "            act.register_forward_hook(self._hook_gen(lin))"
   ]
  },
  {
   "cell_type": "code",
   "execution_count": 233,
   "id": "00ee602a-1014-4d84-b649-31ee85fdb731",
   "metadata": {},
   "outputs": [],
   "source": [
    "from stable_baselines3.ppo.policies import ActorCriticPolicy\n",
    "\n",
    "class CPPO_Policy(ActorCriticPolicy):\n",
    "    def __init__(\n",
    "        self,\n",
    "        observation_space,\n",
    "        action_space,\n",
    "        lr_schedule,\n",
    "        **kwargs\n",
    "    ):\n",
    "        super(CPPO_Policy, self).__init__(observation_space, action_space, lr_schedule, **(kwargs|{'optimizer_kwargs':{}})) # remove optimizer_kwargs, as __init__ initializes Adam with them, which throws errors\n",
    "        self.optimizer_kwargs = kwargs['optimizer_kwargs']\n",
    "        assert len(self.mlp_extractor.shared_net) == 0, 'no shared layers between policy and value function allowed' # not used in the paper, might try to implement it later\n",
    "        \n",
    "        policy_linears, policy_activations = self._handle_sequential(self.mlp_extractor.policy_net)\n",
    "        value_linears, value_activations = self._handle_sequential(self.mlp_extractor.value_net)\n",
    "        \n",
    "        self.optimizer = CBP(self.parameters(),\n",
    "                             linear_layers=[policy_linears, value_linears],\n",
    "                             activation_layers=[policy_activations, value_activations],\n",
    "                             output_linears=[self.action_net, self.value_net],\n",
    "                             lr=lr_schedule(1),\n",
    "                             **self.optimizer_kwargs)\n",
    "    \n",
    "    def _handle_sequential(self, sequential):\n",
    "        linears = []\n",
    "        activations = []\n",
    "        for i, layer in enumerate(sequential):\n",
    "            if i%2 == 0: # Linear Layer\n",
    "                linears.append(layer)\n",
    "            else:        # Activation Layer\n",
    "                activations.append(layer)\n",
    "        return linears, activations"
   ]
  },
  {
   "cell_type": "code",
   "execution_count": null,
   "id": "3f85187d-24b3-468d-a3ef-f169d33d9907",
   "metadata": {},
   "outputs": [],
   "source": []
  },
  {
   "cell_type": "code",
   "execution_count": 81,
   "id": "bc659e80-ec32-4636-a49a-2bcf296a5c5d",
   "metadata": {},
   "outputs": [],
   "source": [
    "from cbp import CAdam as oCAdam"
   ]
  },
  {
   "cell_type": "code",
   "execution_count": null,
   "id": "e13a6e8a-1bcf-47f1-b0b7-dddff2cbe28c",
   "metadata": {},
   "outputs": [],
   "source": []
  },
  {
   "cell_type": "code",
   "execution_count": 84,
   "id": "40a866e1-51aa-47d4-a38a-0aa5f5c10898",
   "metadata": {},
   "outputs": [],
   "source": [
    "data = torch.rand(200,200,requires_grad=True).cuda()\n",
    "target = torch.rand(200,200).cuda()"
   ]
  },
  {
   "cell_type": "code",
   "execution_count": 85,
   "id": "22bfccfd-c5dd-4371-add0-98ba050817ce",
   "metadata": {},
   "outputs": [],
   "source": [
    "param = torch.nn.Parameter(data)\n",
    "loss = (data - target).sum()\n",
    "\n",
    "opt = Adam([param])\n",
    "opt.zero_grad()\n",
    "loss.backward()\n",
    "opt.step()\n",
    "orig_res = param.data.clone()"
   ]
  },
  {
   "cell_type": "code",
   "execution_count": 86,
   "id": "6dabd20a-03a9-4a70-8a25-5faebd0f3e4b",
   "metadata": {},
   "outputs": [],
   "source": [
    "param = torch.nn.Parameter(data)\n",
    "loss = (data - target).sum()\n",
    "\n",
    "opt = oCAdam([param])\n",
    "opt.zero_grad()\n",
    "loss.backward()\n",
    "opt.step()\n",
    "ocadam_res = param.data.clone()"
   ]
  },
  {
   "cell_type": "code",
   "execution_count": 87,
   "id": "d94ee086-d40e-4abc-a977-0a5d910b80e0",
   "metadata": {},
   "outputs": [],
   "source": [
    "param = torch.nn.Parameter(data)\n",
    "loss = (data - target).sum()\n",
    "\n",
    "opt = CAdam([param])\n",
    "opt.zero_grad()\n",
    "loss.backward()\n",
    "opt.step()\n",
    "cadam_res = param.data.clone()"
   ]
  },
  {
   "cell_type": "code",
   "execution_count": 93,
   "id": "9cffbebf-fce6-499c-aadb-579eae1ab8be",
   "metadata": {},
   "outputs": [],
   "source": [
    "param = torch.nn.Parameter(data)\n",
    "loss = (data - target).sum()\n",
    "\n",
    "opt = Adam([param])\n",
    "opt.zero_grad()\n",
    "loss.backward()"
   ]
  },
  {
   "cell_type": "code",
   "execution_count": 94,
   "id": "9150aeea-213f-4137-8dda-d5db72ceab6b",
   "metadata": {},
   "outputs": [
    {
     "name": "stdout",
     "output_type": "stream",
     "text": [
      "28 µs ± 1.12 µs per loop (mean ± std. dev. of 7 runs, 10,000 loops each)\n"
     ]
    }
   ],
   "source": [
    "%%timeit\n",
    "opt.step()"
   ]
  },
  {
   "cell_type": "code",
   "execution_count": 95,
   "id": "b52d1348-3d59-48bb-b96c-5d86f32e3c22",
   "metadata": {},
   "outputs": [],
   "source": [
    "param = torch.nn.Parameter(data)\n",
    "loss = (data - target).sum()\n",
    "\n",
    "opt = oCAdam([param])\n",
    "opt.zero_grad()\n",
    "loss.backward()"
   ]
  },
  {
   "cell_type": "code",
   "execution_count": 96,
   "id": "7cd6d88a-fdde-45df-80b2-5e9965cd4655",
   "metadata": {},
   "outputs": [
    {
     "name": "stdout",
     "output_type": "stream",
     "text": [
      "28 µs ± 2.12 µs per loop (mean ± std. dev. of 7 runs, 10,000 loops each)\n"
     ]
    }
   ],
   "source": [
    "%%timeit\n",
    "opt.step()"
   ]
  },
  {
   "cell_type": "code",
   "execution_count": 97,
   "id": "a5b6411b-fdb7-4d60-a5b5-6b7fa9deaa46",
   "metadata": {},
   "outputs": [],
   "source": [
    "param = torch.nn.Parameter(data)\n",
    "loss = (data - target).sum()\n",
    "\n",
    "opt = CAdam([param])\n",
    "opt.zero_grad()\n",
    "loss.backward()"
   ]
  },
  {
   "cell_type": "code",
   "execution_count": 98,
   "id": "ef910a68-c5cf-46dc-b448-05158b9ab325",
   "metadata": {},
   "outputs": [
    {
     "name": "stdout",
     "output_type": "stream",
     "text": [
      "26.4 µs ± 677 ns per loop (mean ± std. dev. of 7 runs, 10,000 loops each)\n"
     ]
    }
   ],
   "source": [
    "%%timeit\n",
    "opt.step()"
   ]
  },
  {
   "cell_type": "code",
   "execution_count": null,
   "id": "ed6757c5-ef36-46d2-95f6-73955106f699",
   "metadata": {},
   "outputs": [],
   "source": []
  },
  {
   "cell_type": "code",
   "execution_count": null,
   "id": "357bac0f-f56f-453d-83be-ea65c5e96e54",
   "metadata": {},
   "outputs": [],
   "source": []
  },
  {
   "cell_type": "code",
   "execution_count": 88,
   "id": "8ed67a3e-8929-452d-a1c4-1574a1cc77e1",
   "metadata": {},
   "outputs": [
    {
     "data": {
      "text/plain": [
       "True"
      ]
     },
     "execution_count": 88,
     "metadata": {},
     "output_type": "execute_result"
    }
   ],
   "source": [
    "torch.allclose(orig_res, ocadam_res)"
   ]
  },
  {
   "cell_type": "code",
   "execution_count": 89,
   "id": "3eefc57f-4fd7-48d6-9bde-de2daaf96207",
   "metadata": {},
   "outputs": [
    {
     "data": {
      "text/plain": [
       "True"
      ]
     },
     "execution_count": 89,
     "metadata": {},
     "output_type": "execute_result"
    }
   ],
   "source": [
    "torch.allclose(orig_res, cadam_res)"
   ]
  },
  {
   "cell_type": "code",
   "execution_count": null,
   "id": "30745d97-cde4-4991-8e8e-0ee1b9efbfeb",
   "metadata": {},
   "outputs": [],
   "source": []
  },
  {
   "cell_type": "code",
   "execution_count": null,
   "id": "366cada0-1e41-42ba-9533-012054337382",
   "metadata": {},
   "outputs": [],
   "source": []
  },
  {
   "cell_type": "code",
   "execution_count": 49,
   "id": "d9bbaf9e-f647-4e2d-81fc-52aac127e68d",
   "metadata": {},
   "outputs": [],
   "source": [
    "beta = 0.9"
   ]
  },
  {
   "cell_type": "code",
   "execution_count": 50,
   "id": "1b201e49-e2df-468e-be6a-c8bbe279b1bf",
   "metadata": {},
   "outputs": [
    {
     "name": "stdout",
     "output_type": "stream",
     "text": [
      "262 ns ± 98.7 ns per loop (mean ± std. dev. of 7 runs, 1,000,000 loops each)\n"
     ]
    }
   ],
   "source": [
    "%%timeit\n",
    "1 - beta**3"
   ]
  },
  {
   "cell_type": "code",
   "execution_count": 51,
   "id": "7ec0b712-50b5-4608-908d-576389dbdb44",
   "metadata": {},
   "outputs": [],
   "source": [
    "step = torch.full((50,50), 3).cuda()"
   ]
  },
  {
   "cell_type": "code",
   "execution_count": 52,
   "id": "314f5138-61ab-4309-b54d-f2b653772190",
   "metadata": {},
   "outputs": [
    {
     "name": "stdout",
     "output_type": "stream",
     "text": [
      "123 µs ± 3.93 µs per loop (mean ± std. dev. of 7 runs, 1,000 loops each)\n"
     ]
    }
   ],
   "source": [
    "%%timeit\n",
    "1 - beta**step"
   ]
  },
  {
   "cell_type": "code",
   "execution_count": 53,
   "id": "51e44551-da76-4a29-a446-60b3ffe5c3ce",
   "metadata": {},
   "outputs": [],
   "source": [
    "t_beta = torch.tensor(beta, device='cuda')"
   ]
  },
  {
   "cell_type": "code",
   "execution_count": 59,
   "id": "3a86b028-982f-4d53-85c3-7dd1c45793c8",
   "metadata": {},
   "outputs": [
    {
     "name": "stdout",
     "output_type": "stream",
     "text": [
      "27.8 µs ± 482 ns per loop (mean ± std. dev. of 7 runs, 10,000 loops each)\n"
     ]
    }
   ],
   "source": [
    "%%timeit\n",
    "1 - t_beta**step"
   ]
  },
  {
   "cell_type": "code",
   "execution_count": 61,
   "id": "701ae294-eb29-42e6-888c-f92397541a95",
   "metadata": {},
   "outputs": [],
   "source": [
    "prev = t_beta**(step-1)"
   ]
  },
  {
   "cell_type": "code",
   "execution_count": 62,
   "id": "32c674d4-22e0-494f-bcd3-4c725e76ee7d",
   "metadata": {},
   "outputs": [
    {
     "name": "stdout",
     "output_type": "stream",
     "text": [
      "26.2 µs ± 631 ns per loop (mean ± std. dev. of 7 runs, 10,000 loops each)\n"
     ]
    }
   ],
   "source": [
    "%%timeit\n",
    "1 - t_beta * prev"
   ]
  },
  {
   "cell_type": "code",
   "execution_count": 101,
   "id": "ffb3626c-aff6-4428-9a90-ce8e2966cc33",
   "metadata": {},
   "outputs": [],
   "source": [
    "one = torch.tensor(1, device='cuda')"
   ]
  },
  {
   "cell_type": "code",
   "execution_count": 106,
   "id": "39eeaff9-a236-4e8c-a2f1-f56d90ecf8b7",
   "metadata": {},
   "outputs": [
    {
     "name": "stdout",
     "output_type": "stream",
     "text": [
      "24.8 µs ± 127 ns per loop (mean ± std. dev. of 7 runs, 10,000 loops each)\n"
     ]
    }
   ],
   "source": [
    "%%timeit\n",
    "one - t_beta**step"
   ]
  },
  {
   "cell_type": "code",
   "execution_count": null,
   "id": "48177172-e6a2-48ad-9f94-6d73fedabb79",
   "metadata": {},
   "outputs": [],
   "source": []
  },
  {
   "cell_type": "code",
   "execution_count": 69,
   "id": "9a1f39fa-37ba-4e84-83c5-1415a4650457",
   "metadata": {},
   "outputs": [],
   "source": [
    "@torch.jit.script\n",
    "def calcs(param, grad, exp_avg, exp_avg_sq, step, beta1: float, beta2: float, lr: float, eps: float, weight_decay: float):\n",
    "    step.add_(1)\n",
    "    if weight_decay != 0:\n",
    "        grad = grad.add(param, alpha=weight_decay)\n",
    "        \n",
    "    exp_avg.mul_(beta1).add_(grad, alpha=1 - beta1)\n",
    "    exp_avg_sq.mul_(beta2).addcmul_(grad, grad.conj(), value=1 - beta2)\n",
    "    bias_correction1 = (beta1 ** step).neg_().add_(1)\n",
    "    bias_correction2 = (beta2 ** step).neg_().add_(1)\n",
    "    step_size = lr / bias_correction1\n",
    "    bias_correction2_sqrt = bias_correction2.sqrt_()\n",
    "    denom = (exp_avg_sq.sqrt() / bias_correction2_sqrt).add_(eps)\n",
    "    return (exp_avg / denom).mul_(step_size)"
   ]
  },
  {
   "cell_type": "code",
   "execution_count": 68,
   "id": "94ac0daa-c244-432a-a11b-bea878e3e2cd",
   "metadata": {},
   "outputs": [],
   "source": [
    "data = torch.rand(100,100, device='cuda')\n",
    "param = torch.nn.Parameter(data, requires_grad=False)\n",
    "grad = torch.rand_like(data, device='cuda')\n",
    "exp_avg = torch.rand_like(data, device='cuda')\n",
    "exp_avg_sq = torch.rand_like(data, device='cuda')\n",
    "step = torch.full_like(data, 3, device='cuda')\n",
    "beta1 = 0.9\n",
    "beta2 = 0.999\n",
    "lr = 0.0001\n",
    "eps = 1e-8\n",
    "weight_decay = 0"
   ]
  },
  {
   "cell_type": "code",
   "execution_count": 73,
   "id": "8e5f6ab4-a49d-4d3f-bfc9-519625f9d9c7",
   "metadata": {},
   "outputs": [
    {
     "name": "stdout",
     "output_type": "stream",
     "text": [
      "44.9 µs ± 629 ns per loop (mean ± std. dev. of 7 runs, 10,000 loops each)\n"
     ]
    }
   ],
   "source": [
    "%%timeit\n",
    "_cadam_calcs(param, grad, exp_avg, exp_avg_sq, step, beta1, beta2, lr, eps, weight_decay)"
   ]
  },
  {
   "cell_type": "code",
   "execution_count": 70,
   "id": "cc0217f6-58e1-42f7-bcdf-e8e6ef44c4e7",
   "metadata": {},
   "outputs": [
    {
     "name": "stdout",
     "output_type": "stream",
     "text": [
      "134 µs ± 1.79 µs per loop (mean ± std. dev. of 7 runs, 10,000 loops each)\n"
     ]
    }
   ],
   "source": [
    "%%timeit\n",
    "calcs(param, grad, exp_avg, exp_avg_sq, step, beta1, beta2, lr, eps, weight_decay)"
   ]
  },
  {
   "cell_type": "code",
   "execution_count": 267,
   "id": "abb91c8b-b99f-45a6-9147-357ec916f9a3",
   "metadata": {},
   "outputs": [
    {
     "name": "stdout",
     "output_type": "stream",
     "text": [
      "207 µs ± 84.3 µs per loop (mean ± std. dev. of 7 runs, 1 loop each)\n"
     ]
    }
   ],
   "source": []
  },
  {
   "cell_type": "code",
   "execution_count": 74,
   "id": "74282de5-7555-422b-aa0d-c0948d013ddc",
   "metadata": {},
   "outputs": [
    {
     "data": {
      "text/plain": [
       "True"
      ]
     },
     "execution_count": 74,
     "metadata": {},
     "output_type": "execute_result"
    }
   ],
   "source": [
    "torch.allclose(_cadam_calcs(param, grad, exp_avg, exp_avg_sq, step, beta1, beta2, lr, eps, weight_decay), calcs(param, grad, exp_avg, exp_avg_sq, step, beta1, beta2, lr, eps, weight_decay))"
   ]
  },
  {
   "cell_type": "code",
   "execution_count": null,
   "id": "acf926eb-c78b-4b04-8fb4-8e8f3c80ff3c",
   "metadata": {},
   "outputs": [],
   "source": []
  },
  {
   "cell_type": "code",
   "execution_count": null,
   "id": "ab92939c-5b1c-41b9-8a20-db0fdf9be3be",
   "metadata": {},
   "outputs": [],
   "source": []
  },
  {
   "cell_type": "code",
   "execution_count": null,
   "id": "61a230c6-923b-4314-8f1b-a90e513dba12",
   "metadata": {},
   "outputs": [],
   "source": []
  },
  {
   "cell_type": "code",
   "execution_count": 234,
   "id": "b88ce127-0712-4572-99db-ee66a7fc0cf8",
   "metadata": {},
   "outputs": [],
   "source": [
    "ppo = PPO(CPPO_Policy, env, seed=42, **settings)\n",
    "ppo.set_logger(DummyLogger())"
   ]
  },
  {
   "cell_type": "code",
   "execution_count": 235,
   "id": "48785d2b-104d-4d91-9944-790553439aac",
   "metadata": {},
   "outputs": [],
   "source": [
    "ppo.rollout_buffer = buff"
   ]
  },
  {
   "cell_type": "code",
   "execution_count": null,
   "id": "b0959dc4-8d60-4bae-839c-c1a20eab7179",
   "metadata": {},
   "outputs": [],
   "source": []
  },
  {
   "cell_type": "code",
   "execution_count": 236,
   "id": "9b2fa5a1-188a-4dd5-9b54-39dd1443d39b",
   "metadata": {},
   "outputs": [
    {
     "name": "stdout",
     "output_type": "stream",
     "text": [
      "CPU times: total: 23.9 s\n",
      "Wall time: 23.9 s\n"
     ]
    }
   ],
   "source": [
    "%%time\n",
    "ppo.train()"
   ]
  },
  {
   "cell_type": "code",
   "execution_count": 376,
   "id": "3ca0eb19-462b-46c8-91af-ae166a0e419a",
   "metadata": {},
   "outputs": [],
   "source": []
  },
  {
   "cell_type": "code",
   "execution_count": 376,
   "id": "d1a9b4e7-77b7-40ed-b415-dd7e0441604b",
   "metadata": {},
   "outputs": [
    {
     "name": "stdout",
     "output_type": "stream",
     "text": [
      "CPU times: total: 23.6 s\n",
      "Wall time: 23.6 s\n"
     ]
    }
   ],
   "source": []
  },
  {
   "cell_type": "code",
   "execution_count": 377,
   "id": "94944c2c-3a78-4a7b-b092-4c01004e07ab",
   "metadata": {},
   "outputs": [
    {
     "data": {
      "text/plain": [
       "0.39487179487179486"
      ]
     },
     "execution_count": 377,
     "metadata": {},
     "output_type": "execute_result"
    }
   ],
   "source": [
    "(39-23.6)/39"
   ]
  },
  {
   "cell_type": "code",
   "execution_count": 327,
   "id": "15e1068f-f8ed-449b-9851-ba062fefcae3",
   "metadata": {},
   "outputs": [
    {
     "name": "stdout",
     "output_type": "stream",
     "text": [
      "CPU times: total: 26.4 s\n",
      "Wall time: 26.4 s\n"
     ]
    }
   ],
   "source": []
  },
  {
   "cell_type": "code",
   "execution_count": 310,
   "id": "b34ac9cc-b0ae-45d9-b45a-222b8fc4dd77",
   "metadata": {},
   "outputs": [],
   "source": []
  },
  {
   "cell_type": "code",
   "execution_count": 310,
   "id": "73c2963f-84bd-4bfd-be13-1d1e46e3b18c",
   "metadata": {},
   "outputs": [],
   "source": []
  },
  {
   "cell_type": "code",
   "execution_count": 310,
   "id": "a121c702-8b9a-48d9-89db-b48b581a1e79",
   "metadata": {},
   "outputs": [
    {
     "name": "stdout",
     "output_type": "stream",
     "text": [
      "CPU times: total: 26.7 s\n",
      "Wall time: 26.9 s\n"
     ]
    }
   ],
   "source": [
    "+hook jit script"
   ]
  },
  {
   "cell_type": "code",
   "execution_count": 304,
   "id": "2fdccad6-0c11-4fe8-baee-873f07c4aa69",
   "metadata": {},
   "outputs": [
    {
     "data": {
      "text/plain": [
       "0.358974358974359"
      ]
     },
     "execution_count": 304,
     "metadata": {},
     "output_type": "execute_result"
    }
   ],
   "source": [
    "(39-25)/39"
   ]
  },
  {
   "cell_type": "code",
   "execution_count": 246,
   "id": "24477392-f8e0-4636-9d2d-a600036e17c3",
   "metadata": {},
   "outputs": [],
   "source": []
  },
  {
   "cell_type": "code",
   "execution_count": 246,
   "id": "5967d71d-89a8-43db-9883-b9e590deb761",
   "metadata": {},
   "outputs": [
    {
     "name": "stdout",
     "output_type": "stream",
     "text": [
      "CPU times: total: 27.5 s\n",
      "Wall time: 27.6 s\n"
     ]
    }
   ],
   "source": [
    "jit cadam"
   ]
  },
  {
   "cell_type": "code",
   "execution_count": 65,
   "id": "1b2efcb7-b4da-48ba-ba5c-93cfb824cb58",
   "metadata": {},
   "outputs": [],
   "source": []
  },
  {
   "cell_type": "code",
   "execution_count": 247,
   "id": "5ca9de7e-bf4b-42c4-a829-a57f2fc5097e",
   "metadata": {},
   "outputs": [
    {
     "data": {
      "text/plain": [
       "0.3076923076923077"
      ]
     },
     "execution_count": 247,
     "metadata": {},
     "output_type": "execute_result"
    }
   ],
   "source": [
    "(39-27)/39"
   ]
  },
  {
   "cell_type": "code",
   "execution_count": 65,
   "id": "28a6b386-927d-4ce0-9fb0-ea6acd3893ac",
   "metadata": {},
   "outputs": [],
   "source": []
  },
  {
   "cell_type": "code",
   "execution_count": 87,
   "id": "a1053de0-7883-4a42-974d-2d53b30e2051",
   "metadata": {},
   "outputs": [
    {
     "name": "stdout",
     "output_type": "stream",
     "text": [
      "50.8 µs ± 721 ns per loop (mean ± std. dev. of 7 runs, 10,000 loops each)\n"
     ]
    }
   ],
   "source": [
    "%%timeit\n",
    "with torch.no_grad():\n",
    "    pr = ppo.policy.optimizer.linear_layers[0][0].weight.abs().sum(1).detach_().add_(1e-4)"
   ]
  },
  {
   "cell_type": "code",
   "execution_count": 92,
   "id": "a03bb838-ef4c-4770-8d1e-dae78acda42e",
   "metadata": {},
   "outputs": [],
   "source": [
    "pr = ppo.policy.optimizer.linear_layers[0][0].weight.abs().sum(1).detach_().add_(1e-4)"
   ]
  },
  {
   "cell_type": "code",
   "execution_count": 86,
   "id": "97ed78f3-d452-47a7-8579-164d21d85a9c",
   "metadata": {},
   "outputs": [
    {
     "name": "stdout",
     "output_type": "stream",
     "text": [
      "36.7 µs ± 1.43 µs per loop (mean ± std. dev. of 7 runs, 10,000 loops each)\n"
     ]
    }
   ],
   "source": [
    "%%timeit\n",
    "with torch.no_grad():\n",
    "    po = ppo.policy.optimizer.linear_layers[0][1].weight.abs().sum(0).detach_()"
   ]
  },
  {
   "cell_type": "code",
   "execution_count": 93,
   "id": "ff331f17-aad7-4937-9814-93c3464bfbfe",
   "metadata": {},
   "outputs": [],
   "source": [
    "po = ppo.policy.optimizer.linear_layers[0][1].weight.abs().sum(0).detach_()"
   ]
  },
  {
   "cell_type": "code",
   "execution_count": 89,
   "id": "d77898c8-0576-4550-be14-e52b6a31db9c",
   "metadata": {},
   "outputs": [],
   "source": []
  },
  {
   "cell_type": "code",
   "execution_count": 89,
   "id": "09e6aa98-9b19-4ec3-898d-8d8e4a4ac46f",
   "metadata": {},
   "outputs": [],
   "source": [
    "cbp_vals = ppo.policy.optimizer.cbp_vals[ppo.policy.optimizer.linear_layers[0][0]]\n",
    "cbp_u = deepcopy(cbp_vals['u'])"
   ]
  },
  {
   "cell_type": "code",
   "execution_count": 90,
   "id": "db134167-7e1b-4a55-8e7c-944501405f24",
   "metadata": {},
   "outputs": [],
   "source": [
    "cbp_vals['u'] = cbp_u"
   ]
  },
  {
   "cell_type": "code",
   "execution_count": 91,
   "id": "41bbd587-58d0-4e60-8b7d-485b60bf68be",
   "metadata": {},
   "outputs": [],
   "source": []
  },
  {
   "cell_type": "code",
   "execution_count": 94,
   "id": "422ec33a-c092-4515-aa55-5e32e384695c",
   "metadata": {},
   "outputs": [
    {
     "name": "stdout",
     "output_type": "stream",
     "text": [
      "33.8 µs ± 1.54 µs per loop (mean ± std. dev. of 7 runs, 10,000 loops each)\n"
     ]
    }
   ],
   "source": [
    "%%timeit\n",
    "with torch.no_grad():\n",
    "    y = (cbp_vals['h'] - cbp_vals['fhat']).abs_().mul_(po).div_(pr)"
   ]
  },
  {
   "cell_type": "code",
   "execution_count": 95,
   "id": "1f59589a-b21c-4b98-84cc-98305b0f1e47",
   "metadata": {},
   "outputs": [],
   "source": [
    "y = (cbp_vals['h'] - cbp_vals['fhat']).abs_().mul_(po).div_(pr)"
   ]
  },
  {
   "cell_type": "code",
   "execution_count": 84,
   "id": "d3de3639-04fd-446e-a9cf-5054d0158248",
   "metadata": {},
   "outputs": [],
   "source": []
  },
  {
   "cell_type": "code",
   "execution_count": 96,
   "id": "d557277d-5420-4fb9-9f6a-3e41d3754cb3",
   "metadata": {},
   "outputs": [
    {
     "name": "stdout",
     "output_type": "stream",
     "text": [
      "33.5 µs ± 274 ns per loop (mean ± std. dev. of 7 runs, 10,000 loops each)\n"
     ]
    }
   ],
   "source": [
    "%%timeit cbp_vals['u'] = cbp_u\n",
    "with torch.no_grad():\n",
    "    cbp_vals['u'].mul_(1e-4).add_((1-1e-4)*y)"
   ]
  },
  {
   "cell_type": "code",
   "execution_count": 84,
   "id": "b67536f2-fe69-41de-9e6d-3f42fee2db5e",
   "metadata": {},
   "outputs": [],
   "source": []
  },
  {
   "cell_type": "code",
   "execution_count": 97,
   "id": "0cc6cd01-b717-4b78-b3ca-1a02679f41eb",
   "metadata": {},
   "outputs": [
    {
     "data": {
      "text/plain": [
       "600"
      ]
     },
     "execution_count": 97,
     "metadata": {},
     "output_type": "execute_result"
    }
   ],
   "source": [
    "150 * 4"
   ]
  },
  {
   "cell_type": "code",
   "execution_count": 65,
   "id": "9bffd827-a8c3-423b-b4e5-2d65e193b963",
   "metadata": {},
   "outputs": [],
   "source": []
  },
  {
   "cell_type": "code",
   "execution_count": 65,
   "id": "ee070109-0643-43cb-b647-d8ee37ae3d8c",
   "metadata": {},
   "outputs": [
    {
     "name": "stdout",
     "output_type": "stream",
     "text": [
      "CPU times: total: 16.7 s\n",
      "Wall time: 16.8 s\n"
     ]
    }
   ],
   "source": [
    "ppo"
   ]
  },
  {
   "cell_type": "code",
   "execution_count": 61,
   "id": "75a93af6-e02f-4b30-9e7d-ebeb9a93f7c8",
   "metadata": {},
   "outputs": [
    {
     "name": "stdout",
     "output_type": "stream",
     "text": [
      "CPU times: total: 39 s\n",
      "Wall time: 39.2 s\n"
     ]
    }
   ],
   "source": [
    "cppo start"
   ]
  },
  {
   "cell_type": "code",
   "execution_count": 50,
   "id": "cb27db07-ecf5-4926-92e7-6b10ecf91883",
   "metadata": {},
   "outputs": [],
   "source": []
  },
  {
   "cell_type": "code",
   "execution_count": 50,
   "id": "f358105d-cc1e-401d-9781-113cddbc6a80",
   "metadata": {},
   "outputs": [],
   "source": []
  },
  {
   "cell_type": "code",
   "execution_count": 50,
   "id": "601ec3a1-b9b2-4b26-b787-84a18df2e2e6",
   "metadata": {},
   "outputs": [],
   "source": [
    "cProfile.run('', './speed/cppo_train_stats')"
   ]
  },
  {
   "cell_type": "code",
   "execution_count": 51,
   "id": "64d55a90-002b-4fd3-826d-f3c83b749c55",
   "metadata": {},
   "outputs": [],
   "source": [
    "cppo_stats = pstats.Stats('./speed/cppo_train_stats')"
   ]
  },
  {
   "cell_type": "code",
   "execution_count": 98,
   "id": "f98414a5-1221-4a02-b217-4612f53e9f92",
   "metadata": {},
   "outputs": [
    {
     "name": "stdout",
     "output_type": "stream",
     "text": [
      "Sat Nov 26 10:20:37 2022    ./speed/cppo_train_stats\n",
      "\n",
      "         5066660 function calls (4813187 primitive calls) in 42.098 seconds\n",
      "\n",
      "   Random listing order was used\n",
      "   List reduced from 194 to 2 due to restriction <'step'>\n",
      "\n",
      "   ncalls  tottime  percall  cumtime  percall filename:lineno(function)\n",
      "     2560    2.064    0.001   23.391    0.009 E:\\JKU Bachelor\\Practical Work - Continual Backprop\\Continual-Backprop\\cbp.py:51(step)\n",
      "     2560    0.100    0.000   17.671    0.007 E:\\JKU Bachelor\\Practical Work - Continual Backprop\\Continual-Backprop\\cadam.py:12(step)\n",
      "\n",
      "\n"
     ]
    },
    {
     "data": {
      "text/plain": [
       "<pstats.Stats at 0x21bae6216a0>"
      ]
     },
     "execution_count": 98,
     "metadata": {},
     "output_type": "execute_result"
    }
   ],
   "source": [
    "cppo_stats.print_stats('step')"
   ]
  },
  {
   "cell_type": "code",
   "execution_count": 99,
   "id": "f278e60c-3162-45f2-80f0-18551320530f",
   "metadata": {},
   "outputs": [
    {
     "name": "stdout",
     "output_type": "stream",
     "text": [
      "Sat Nov 26 09:48:46 2022    ./speed/ppo_stats\n",
      "\n",
      "         5969307 function calls (5692247 primitive calls) in 41.532 seconds\n",
      "\n",
      "   Random listing order was used\n",
      "   List reduced from 693 to 16 due to restriction <'step'>\n",
      "\n",
      "   ncalls  tottime  percall  cumtime  percall filename:lineno(function)\n",
      "     4136    0.021    0.000   11.392    0.003 C:\\Users\\chris\\anaconda3\\envs\\cbp\\lib\\site-packages\\stable_baselines3\\common\\vec_env\\base_vec_env.py:154(step)\n",
      "       40    0.000    0.000    0.000    0.000 C:\\Users\\chris\\anaconda3\\envs\\cbp\\lib\\site-packages\\stable_baselines3\\common\\vec_env\\dummy_vec_env.py:38(step_async)\n",
      "       40    0.000    0.000    0.049    0.001 C:\\Users\\chris\\anaconda3\\envs\\cbp\\lib\\site-packages\\stable_baselines3\\common\\vec_env\\dummy_vec_env.py:41(step_wait)\n",
      "     2560    0.095    0.000    3.815    0.001 C:\\Users\\chris\\anaconda3\\envs\\cbp\\lib\\site-packages\\torch\\optim\\adam.py:105(step)\n",
      "16384/4096    0.028    0.000    0.036    0.000 C:\\Users\\chris\\anaconda3\\envs\\cbp\\lib\\site-packages\\stable_baselines3\\common\\callbacks.py:88(on_step)\n",
      "     4096    0.006    0.000    0.028    0.000 C:\\Users\\chris\\anaconda3\\envs\\cbp\\lib\\site-packages\\stable_baselines3\\common\\callbacks.py:200(_on_step)\n",
      "     4096    0.071    0.000    1.897    0.000 C:\\Users\\chris\\anaconda3\\envs\\cbp\\lib\\site-packages\\stable_baselines3\\common\\vec_env\\subproc_vec_env.py:114(step_async)\n",
      "     4096    0.037    0.000    9.426    0.002 C:\\Users\\chris\\anaconda3\\envs\\cbp\\lib\\site-packages\\stable_baselines3\\common\\vec_env\\subproc_vec_env.py:119(step_wait)\n",
      "       40    0.000    0.000    0.046    0.001 C:\\Users\\chris\\anaconda3\\envs\\cbp\\lib\\site-packages\\stable_baselines3\\common\\monitor.py:85(step)\n",
      "       40    0.000    0.000    0.046    0.001 E:\\JKU Bachelor\\Practical Work - Continual Backprop\\Continual-Backprop\\env.py:26(step)\n",
      "       40    0.001    0.000    0.045    0.001 C:\\Users\\chris\\anaconda3\\envs\\cbp\\lib\\site-packages\\pybullet_envs\\gym_locomotion_envs.py:64(step)\n",
      "     4096    0.001    0.000    0.001    0.000 E:\\JKU Bachelor\\Practical Work - Continual Backprop\\Continual-Backprop\\utils.py:23(_on_step)\n",
      "       40    0.000    0.000    0.010    0.000 C:\\Users\\chris\\anaconda3\\envs\\cbp\\lib\\site-packages\\pybullet_envs\\scene_abstract.py:47(global_step)\n",
      "       40    0.010    0.000    0.010    0.000 C:\\Users\\chris\\anaconda3\\envs\\cbp\\lib\\site-packages\\pybullet_envs\\scene_abstract.py:78(step)\n",
      "     4096    0.001    0.000    0.001    0.000 E:\\JKU Bachelor\\Practical Work - Continual Backprop\\Continual-Backprop\\utils.py:53(_on_step)\n",
      "     4096    0.001    0.000    0.001    0.000 E:\\JKU Bachelor\\Practical Work - Continual Backprop\\Continual-Backprop\\utils.py:103(_on_step)\n",
      "\n",
      "\n"
     ]
    },
    {
     "data": {
      "text/plain": [
       "<pstats.Stats at 0x21b072be640>"
      ]
     },
     "execution_count": 99,
     "metadata": {},
     "output_type": "execute_result"
    }
   ],
   "source": [
    "ppo_stats.print_stats('step')"
   ]
  },
  {
   "cell_type": "code",
   "execution_count": null,
   "id": "9ad9ca3e-23a8-4468-b978-ba9ef9dc9642",
   "metadata": {},
   "outputs": [],
   "source": []
  },
  {
   "cell_type": "code",
   "execution_count": null,
   "id": "440cf5ba-efab-4d84-bc49-ff19632d442e",
   "metadata": {},
   "outputs": [],
   "source": []
  },
  {
   "cell_type": "code",
   "execution_count": 40,
   "id": "4c6c08b4-2fd2-40f3-80de-ad4658973019",
   "metadata": {},
   "outputs": [],
   "source": [
    "import torch"
   ]
  },
  {
   "cell_type": "code",
   "execution_count": 41,
   "id": "1b490d94-cbf1-4f7c-afa3-7cef368a04d1",
   "metadata": {},
   "outputs": [],
   "source": [
    "alpha = torch.tensor(0.5)"
   ]
  },
  {
   "cell_type": "code",
   "execution_count": 48,
   "id": "e430cdf3-9ee1-4254-ba92-b951cb9cc7e9",
   "metadata": {},
   "outputs": [],
   "source": [
    "def add(a):\n",
    "    return torch.zeros(5, 5).add_(torch.ones(5, 5), alpha=a)"
   ]
  },
  {
   "cell_type": "code",
   "execution_count": 49,
   "id": "93ed12d7-f384-4da0-86b6-e6a6d4bd5996",
   "metadata": {},
   "outputs": [
    {
     "data": {
      "text/plain": [
       "tensor([[0.5000, 0.5000, 0.5000, 0.5000, 0.5000],\n",
       "        [0.5000, 0.5000, 0.5000, 0.5000, 0.5000],\n",
       "        [0.5000, 0.5000, 0.5000, 0.5000, 0.5000],\n",
       "        [0.5000, 0.5000, 0.5000, 0.5000, 0.5000],\n",
       "        [0.5000, 0.5000, 0.5000, 0.5000, 0.5000]])"
      ]
     },
     "execution_count": 49,
     "metadata": {},
     "output_type": "execute_result"
    }
   ],
   "source": [
    "add(alpha)"
   ]
  },
  {
   "cell_type": "code",
   "execution_count": 58,
   "id": "c97a7d3a-bcd7-4789-8fa7-74c4d0fd93ab",
   "metadata": {},
   "outputs": [],
   "source": [
    "@torch.jit.script\n",
    "def add(a):\n",
    "    return torch.zeros(5, 5).add_(torch.ones(5, 5), alpha=a)"
   ]
  },
  {
   "cell_type": "code",
   "execution_count": 59,
   "id": "3fde2f70-f2b8-48e8-b07e-0dbe19dfa845",
   "metadata": {},
   "outputs": [
    {
     "ename": "RuntimeError",
     "evalue": "The following operation failed in the TorchScript interpreter.\nTraceback of TorchScript (most recent call last):\n  File \"C:\\Users\\chris\\AppData\\Local\\Temp\\ipykernel_14680\\1274348814.py\", line 3, in add\n@torch.jit.script\ndef add(a):\n    return torch.zeros(5, 5).add_(torch.ones(5, 5), alpha=a)\n           ~~~~~~~~~~~~~~~~~~~~~ <--- HERE\nRuntimeError: Cannot input a tensor of dimension other than 0 as a scalar argument\n",
     "output_type": "error",
     "traceback": [
      "\u001b[1;31m---------------------------------------------------------------------------\u001b[0m",
      "\u001b[1;31mRuntimeError\u001b[0m                              Traceback (most recent call last)",
      "Cell \u001b[1;32mIn [59], line 1\u001b[0m\n\u001b[1;32m----> 1\u001b[0m \u001b[43madd\u001b[49m\u001b[43m(\u001b[49m\u001b[43malpha\u001b[49m\u001b[43m)\u001b[49m\n",
      "\u001b[1;31mRuntimeError\u001b[0m: The following operation failed in the TorchScript interpreter.\nTraceback of TorchScript (most recent call last):\n  File \"C:\\Users\\chris\\AppData\\Local\\Temp\\ipykernel_14680\\1274348814.py\", line 3, in add\n@torch.jit.script\ndef add(a):\n    return torch.zeros(5, 5).add_(torch.ones(5, 5), alpha=a)\n           ~~~~~~~~~~~~~~~~~~~~~ <--- HERE\nRuntimeError: Cannot input a tensor of dimension other than 0 as a scalar argument\n"
     ]
    }
   ],
   "source": [
    "add(alpha)"
   ]
  },
  {
   "cell_type": "code",
   "execution_count": 54,
   "id": "635c084a-a474-4f96-8449-2b62f657e676",
   "metadata": {},
   "outputs": [],
   "source": [
    "@torch.jit.script\n",
    "def add(a):\n",
    "    return torch.zeros(5, 5).add(torch.ones(5, 5), alpha=a)"
   ]
  },
  {
   "cell_type": "code",
   "execution_count": 55,
   "id": "1a305bbe-3a8a-499a-b79a-34a7f1cee105",
   "metadata": {},
   "outputs": [
    {
     "data": {
      "text/plain": [
       "tensor([[0.5000, 0.5000, 0.5000, 0.5000, 0.5000],\n",
       "        [0.5000, 0.5000, 0.5000, 0.5000, 0.5000],\n",
       "        [0.5000, 0.5000, 0.5000, 0.5000, 0.5000],\n",
       "        [0.5000, 0.5000, 0.5000, 0.5000, 0.5000],\n",
       "        [0.5000, 0.5000, 0.5000, 0.5000, 0.5000]])"
      ]
     },
     "execution_count": 55,
     "metadata": {},
     "output_type": "execute_result"
    }
   ],
   "source": [
    "add(alpha)"
   ]
  },
  {
   "cell_type": "code",
   "execution_count": 52,
   "id": "d303dc83-6f61-42d5-ba44-999de67b9d64",
   "metadata": {},
   "outputs": [],
   "source": [
    "@torch.jit.script\n",
    "def add(a: float):\n",
    "    return torch.zeros(5, 5).add_(torch.ones(5, 5), alpha=a)"
   ]
  },
  {
   "cell_type": "code",
   "execution_count": 53,
   "id": "06bcdd4d-7c2a-464f-ae8b-9ab9cbf5d7e5",
   "metadata": {},
   "outputs": [
    {
     "data": {
      "text/plain": [
       "tensor([[0.5000, 0.5000, 0.5000, 0.5000, 0.5000],\n",
       "        [0.5000, 0.5000, 0.5000, 0.5000, 0.5000],\n",
       "        [0.5000, 0.5000, 0.5000, 0.5000, 0.5000],\n",
       "        [0.5000, 0.5000, 0.5000, 0.5000, 0.5000],\n",
       "        [0.5000, 0.5000, 0.5000, 0.5000, 0.5000]])"
      ]
     },
     "execution_count": 53,
     "metadata": {},
     "output_type": "execute_result"
    }
   ],
   "source": [
    "add(alpha)"
   ]
  },
  {
   "cell_type": "code",
   "execution_count": null,
   "id": "685408ab-f4aa-4bc9-b288-e2e4a29fdf7b",
   "metadata": {},
   "outputs": [],
   "source": []
  }
 ],
 "metadata": {
  "kernelspec": {
   "display_name": "cbp",
   "language": "python",
   "name": "conda-env-cbp-py"
  },
  "language_info": {
   "codemirror_mode": {
    "name": "ipython",
    "version": 3
   },
   "file_extension": ".py",
   "mimetype": "text/x-python",
   "name": "python",
   "nbconvert_exporter": "python",
   "pygments_lexer": "ipython3",
   "version": "3.9.13"
  }
 },
 "nbformat": 4,
 "nbformat_minor": 5
}
