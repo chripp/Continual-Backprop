{
 "cells": [
  {
   "cell_type": "code",
   "execution_count": 1,
   "id": "dcc7c582-349f-4e3b-9aab-1f97a346411c",
   "metadata": {},
   "outputs": [],
   "source": [
    "import torch\n",
    "from torch import nn\n",
    "import numpy as np\n",
    "import matplotlib.pyplot as plt \n",
    "from tqdm.auto import tqdm\n",
    "\n",
    "import gym\n",
    "\n",
    "from stable_baselines3.ppo import PPO\n",
    "\n",
    "from cppo import CPPO_Policy\n",
    "from env import SlindingAntEnv"
   ]
  },
  {
   "cell_type": "code",
   "execution_count": 2,
   "id": "aa9faae1-b8d9-47a9-9565-a9f3ce093a41",
   "metadata": {},
   "outputs": [],
   "source": [
    "env = SlindingAntEnv(3)"
   ]
  },
  {
   "cell_type": "code",
   "execution_count": 3,
   "id": "fed02a79-b23c-4000-8a75-e2a42a119e42",
   "metadata": {},
   "outputs": [],
   "source": [
    "ppo = PPO(CPPO_Policy, env, \n",
    "        policy_kwargs={'net_arch': [{'pi': [256, 256], 'vf':[256, 256]}], \n",
    "                       'activation_fn': nn.Tanh, \n",
    "                       'optimizer_kwargs':{'m':10}})"
   ]
  },
  {
   "cell_type": "code",
   "execution_count": 4,
   "id": "84bd7647-b027-4522-b498-9a5f3a1aa54d",
   "metadata": {},
   "outputs": [
    {
     "data": {
      "application/vnd.jupyter.widget-view+json": {
       "model_id": "bfd490a1545245f2af844fb91fe3bf4e",
       "version_major": 2,
       "version_minor": 0
      },
      "text/plain": [
       "Output()"
      ]
     },
     "metadata": {},
     "output_type": "display_data"
    },
    {
     "data": {
      "text/html": [
       "<pre style=\"white-space:pre;overflow-x:auto;line-height:normal;font-family:Menlo,'DejaVu Sans Mono',consolas,'Courier New',monospace\"></pre>\n"
      ],
      "text/plain": []
     },
     "metadata": {},
     "output_type": "display_data"
    },
    {
     "data": {
      "text/html": [
       "<pre style=\"white-space:pre;overflow-x:auto;line-height:normal;font-family:Menlo,'DejaVu Sans Mono',consolas,'Courier New',monospace\">\n",
       "</pre>\n"
      ],
      "text/plain": [
       "\n"
      ]
     },
     "metadata": {},
     "output_type": "display_data"
    },
    {
     "data": {
      "text/plain": [
       "<stable_baselines3.ppo.ppo.PPO at 0x1e812a7fdc0>"
      ]
     },
     "execution_count": 4,
     "metadata": {},
     "output_type": "execute_result"
    }
   ],
   "source": [
    "ppo.learn(total_timesteps=10000, progress_bar=True)"
   ]
  },
  {
   "cell_type": "code",
   "execution_count": null,
   "id": "ac7fa2b6-d733-4db1-9390-443dd1304b70",
   "metadata": {},
   "outputs": [],
   "source": []
  },
  {
   "cell_type": "code",
   "execution_count": null,
   "id": "d01bfffe-e364-40fe-a3c6-088888a463a0",
   "metadata": {},
   "outputs": [],
   "source": []
  }
 ],
 "metadata": {
  "kernelspec": {
   "display_name": "Python 3 (ipykernel)",
   "language": "python",
   "name": "python3"
  },
  "language_info": {
   "codemirror_mode": {
    "name": "ipython",
    "version": 3
   },
   "file_extension": ".py",
   "mimetype": "text/x-python",
   "name": "python",
   "nbconvert_exporter": "python",
   "pygments_lexer": "ipython3",
   "version": "3.9.7"
  }
 },
 "nbformat": 4,
 "nbformat_minor": 5
}
