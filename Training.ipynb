{
 "cells": [
  {
   "cell_type": "code",
   "execution_count": 1,
   "id": "dcc7c582-349f-4e3b-9aab-1f97a346411c",
   "metadata": {},
   "outputs": [],
   "source": [
    "import torch\n",
    "from torch import nn\n",
    "import numpy as np\n",
    "import matplotlib.pyplot as plt \n",
    "from tqdm.auto import tqdm\n",
    "from copy import deepcopy\n",
    "\n",
    "import gym\n",
    "\n",
    "from stable_baselines3.ppo import PPO\n",
    "\n",
    "from cppo import CPPO_Policy\n",
    "from env import SlindingAntEnv\n",
    "\n",
    "from utils import RewardLoggerCallback"
   ]
  },
  {
   "cell_type": "code",
   "execution_count": 2,
   "id": "a0761eaa-3865-4da3-90e8-90881dc35952",
   "metadata": {},
   "outputs": [],
   "source": [
    "settings = {\n",
    "    'policy_kwargs': {'net_arch': [{'pi': [256, 256], 'vf':[256, 256]}], \n",
    "                      'activation_fn': nn.Tanh,\n",
    "                      'optimizer_class': torch.optim.Adam,\n",
    "                      'optimizer_kwargs': {\n",
    "                          'betas': (0.9, 0.999)\n",
    "                      }\n",
    "                     },\n",
    "    'n_steps': 4096,\n",
    "    'n_epochs': 10,\n",
    "    'batch_size': 128,\n",
    "    'gae_lambda': 0.95,\n",
    "    'gamma': 0.99,\n",
    "    'clip_range': 0.2,\n",
    "    'learning_rate': 1e-4,\n",
    "    'tensorboard_log': './ant_tensorboard/'\n",
    "}\n",
    "\n",
    "cppo_rho_m_options = [\n",
    "    (10**-3, int(1e2)),\n",
    "    (10**-3, int(5e2)),\n",
    "    (10**-4, int(5e3)),\n",
    "    (10**-4, int(5e2)),\n",
    "    (10**-5, int(1e4)),\n",
    "    (10**-5, int(5e4))\n",
    "]\n",
    "\n",
    "cppo_option_index = 2\n",
    "\n",
    "cppo_settings = deepcopy(settings)\n",
    "cppo_settings['policy_kwargs']['optimizer_kwargs'] |= {\n",
    "    'rho': cppo_rho_m_options[cppo_option_index][0],\n",
    "    'm': cppo_rho_m_options[cppo_option_index][1]\n",
    "}\n",
    "\n",
    "total_timesteps = 1_000_000 # 100_000_000"
   ]
  },
  {
   "cell_type": "code",
   "execution_count": null,
   "id": "f4853577-7420-4789-9599-937f6095ff93",
   "metadata": {},
   "outputs": [],
   "source": []
  },
  {
   "cell_type": "code",
   "execution_count": null,
   "id": "65cc5738-bc97-4dff-b729-a9b4fe7870c1",
   "metadata": {},
   "outputs": [],
   "source": []
  },
  {
   "cell_type": "code",
   "execution_count": 3,
   "id": "d50dc93d-b0e5-428c-8c2c-4a259f61bde4",
   "metadata": {},
   "outputs": [],
   "source": [
    "env = SlindingAntEnv(total_timesteps//10)"
   ]
  },
  {
   "cell_type": "code",
   "execution_count": 4,
   "id": "d0f404ba-5ea8-4789-8a54-3b9dc9a86583",
   "metadata": {},
   "outputs": [],
   "source": [
    "ppo = PPO(\"MlpPolicy\", env, **settings)"
   ]
  },
  {
   "cell_type": "code",
   "execution_count": 5,
   "id": "739e9d3d-a3c4-4cd6-a1cf-7d220eca5e93",
   "metadata": {},
   "outputs": [
    {
     "data": {
      "application/vnd.jupyter.widget-view+json": {
       "model_id": "58b22bc1a0fe4a239253bdc7e5a86186",
       "version_major": 2,
       "version_minor": 0
      },
      "text/plain": [
       "Output()"
      ]
     },
     "metadata": {},
     "output_type": "display_data"
    },
    {
     "data": {
      "text/html": [
       "<pre style=\"white-space:pre;overflow-x:auto;line-height:normal;font-family:Menlo,'DejaVu Sans Mono',consolas,'Courier New',monospace\"></pre>\n"
      ],
      "text/plain": []
     },
     "metadata": {},
     "output_type": "display_data"
    },
    {
     "data": {
      "text/html": [
       "<pre style=\"white-space:pre;overflow-x:auto;line-height:normal;font-family:Menlo,'DejaVu Sans Mono',consolas,'Courier New',monospace\">\n",
       "</pre>\n"
      ],
      "text/plain": [
       "\n"
      ]
     },
     "metadata": {},
     "output_type": "display_data"
    },
    {
     "data": {
      "text/plain": [
       "<stable_baselines3.ppo.ppo.PPO at 0x13289938520>"
      ]
     },
     "execution_count": 5,
     "metadata": {},
     "output_type": "execute_result"
    }
   ],
   "source": [
    "ppo.learn(total_timesteps=total_timesteps, progress_bar=True, callback=RewardLoggerCallback(), tb_log_name='baseline')"
   ]
  },
  {
   "cell_type": "code",
   "execution_count": null,
   "id": "cddfbbd7-09c8-4ce1-a8fc-52da9f1a00ad",
   "metadata": {},
   "outputs": [],
   "source": []
  },
  {
   "cell_type": "code",
   "execution_count": 7,
   "id": "9fc14a3d-6187-4de4-9b46-269d2849bda8",
   "metadata": {},
   "outputs": [],
   "source": [
    "env = SlindingAntEnv(total_timesteps//10)"
   ]
  },
  {
   "cell_type": "code",
   "execution_count": 8,
   "id": "fed02a79-b23c-4000-8a75-e2a42a119e42",
   "metadata": {},
   "outputs": [],
   "source": [
    "cppo = PPO(CPPO_Policy, env, **cppo_settings)"
   ]
  },
  {
   "cell_type": "code",
   "execution_count": 9,
   "id": "84bd7647-b027-4522-b498-9a5f3a1aa54d",
   "metadata": {},
   "outputs": [
    {
     "data": {
      "application/vnd.jupyter.widget-view+json": {
       "model_id": "a9a53a123f0f4de3a0c316e31dc2dc91",
       "version_major": 2,
       "version_minor": 0
      },
      "text/plain": [
       "Output()"
      ]
     },
     "metadata": {},
     "output_type": "display_data"
    },
    {
     "data": {
      "text/html": [
       "<pre style=\"white-space:pre;overflow-x:auto;line-height:normal;font-family:Menlo,'DejaVu Sans Mono',consolas,'Courier New',monospace\"></pre>\n"
      ],
      "text/plain": []
     },
     "metadata": {},
     "output_type": "display_data"
    },
    {
     "data": {
      "text/html": [
       "<pre style=\"white-space:pre;overflow-x:auto;line-height:normal;font-family:Menlo,'DejaVu Sans Mono',consolas,'Courier New',monospace\">\n",
       "</pre>\n"
      ],
      "text/plain": [
       "\n"
      ]
     },
     "metadata": {},
     "output_type": "display_data"
    },
    {
     "data": {
      "text/plain": [
       "<stable_baselines3.ppo.ppo.PPO at 0x1332bdc44f0>"
      ]
     },
     "execution_count": 9,
     "metadata": {},
     "output_type": "execute_result"
    }
   ],
   "source": [
    "cppo.learn(total_timesteps=total_timesteps, progress_bar=True, callback=RewardLoggerCallback(), tb_log_name=f'cppo {cppo_option_index}') # TODO Add hyper parameter logging calback"
   ]
  },
  {
   "cell_type": "code",
   "execution_count": null,
   "id": "4644a297-2d81-4dc5-bdbe-52aa75cf60d0",
   "metadata": {},
   "outputs": [],
   "source": []
  },
  {
   "cell_type": "code",
   "execution_count": 20,
   "id": "7ef446c3-4095-49e6-bdeb-fc5f6556a245",
   "metadata": {},
   "outputs": [
    {
     "name": "stdout",
     "output_type": "stream",
     "text": [
      "Ages: 19190.328125 ± 26128.961208694443 , min: 5 , max: 78400\n"
     ]
    }
   ],
   "source": [
    "ages = np.concatenate([v['age'].cpu().detach() for v in cppo.policy.optimizer.cbp_vals.values()])\n",
    "print('Ages:', ages.mean(), '±', ages.std(), ', min:', ages.min(), ', max:', ages.max())"
   ]
  },
  {
   "cell_type": "code",
   "execution_count": 23,
   "id": "c4b60428-bad0-4639-b054-ea1b1e5472cd",
   "metadata": {},
   "outputs": [
    {
     "data": {
      "image/png": "[encoded data removed]",
      "text/plain": [
       "<Figure size 640x480 with 1 Axes>"
      ]
     },
     "metadata": {},
     "output_type": "display_data"
    }
   ],
   "source": [
    "plt.violinplot([cppo.policy.optimizer.cbp_vals[l]['age'].cpu().detach() for l in cppo.policy.optimizer.linear_layers[0] + cppo.policy.optimizer.linear_layers[1]])\n",
    "plt.xticks([1, 2, 3, 4], ['Policy 1', 'Policy 2', 'Value 1', 'Value 2'])\n",
    "plt.show()"
   ]
  },
  {
   "cell_type": "code",
   "execution_count": null,
   "id": "3a3c6b30-4270-43dc-9e70-79628634bf9d",
   "metadata": {},
   "outputs": [],
   "source": []
  },
  {
   "cell_type": "code",
   "execution_count": null,
   "id": "d01bfffe-e364-40fe-a3c6-088888a463a0",
   "metadata": {},
   "outputs": [],
   "source": [
    "# TODO\n",
    "# add hyperparameter logging\n",
    "# add logging for avereage/max feature age\n",
    "# add joblib or similar"
   ]
  }
 ],
 "metadata": {
  "kernelspec": {
   "display_name": "Python 3 (ipykernel)",
   "language": "python",
   "name": "python3"
  },
  "language_info": {
   "codemirror_mode": {
    "name": "ipython",
    "version": 3
   },
   "file_extension": ".py",
   "mimetype": "text/x-python",
   "name": "python",
   "nbconvert_exporter": "python",
   "pygments_lexer": "ipython3",
   "version": "3.9.7"
  }
 },
 "nbformat": 4,
 "nbformat_minor": 5
}
